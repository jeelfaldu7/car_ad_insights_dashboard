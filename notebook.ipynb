{
 "cells": [
  {
   "cell_type": "markdown",
   "id": "971a0677",
   "metadata": {},
   "source": [
    "# Car Ad Insights Web Application"
   ]
  },
  {
   "cell_type": "markdown",
   "id": "81e40f94",
   "metadata": {},
   "source": [
    "## Introduction"
   ]
  },
  {
   "cell_type": "markdown",
   "id": "463d5254",
   "metadata": {},
   "source": [
    "This project is based on car sales advertisements to develop and deploy a web application to a cloud service so that it is accessible to the public. For this project, we have to build an interactive web application using Streamlit and deploy the web application to the cloud using Render platform. "
   ]
  },
  {
   "cell_type": "markdown",
   "id": "c82e99ee",
   "metadata": {},
   "source": [
    "## Data Overview"
   ]
  },
  {
   "cell_type": "code",
   "execution_count": 174,
   "id": "d2beae75",
   "metadata": {},
   "outputs": [],
   "source": [
    "# import necessary libraries\n",
    "import pandas as pd\n",
    "from matplotlib import pyplot as plt\n",
    "import seaborn as sns\n",
    "import numpy as np\n",
    "from scipy import stats as st\n",
    "from scipy import stats as st\n",
    "import warnings\n",
    "warnings.filterwarnings('ignore')"
   ]
  },
  {
   "cell_type": "markdown",
   "id": "7ba767f2",
   "metadata": {},
   "source": [
    "## Data Preprocessing"
   ]
  },
  {
   "cell_type": "code",
   "execution_count": 175,
   "id": "1ec33c91",
   "metadata": {},
   "outputs": [],
   "source": [
    "# load the dataset and read the data correctly\n",
    "vehicles_us = pd.read_csv('datasets/vehicles_us.csv')"
   ]
  },
  {
   "cell_type": "code",
   "execution_count": 176,
   "id": "8a08b75e",
   "metadata": {},
   "outputs": [
    {
     "data": {
      "text/html": [
       "<div>\n",
       "<style scoped>\n",
       "    .dataframe tbody tr th:only-of-type {\n",
       "        vertical-align: middle;\n",
       "    }\n",
       "\n",
       "    .dataframe tbody tr th {\n",
       "        vertical-align: top;\n",
       "    }\n",
       "\n",
       "    .dataframe thead th {\n",
       "        text-align: right;\n",
       "    }\n",
       "</style>\n",
       "<table border=\"1\" class=\"dataframe\">\n",
       "  <thead>\n",
       "    <tr style=\"text-align: right;\">\n",
       "      <th></th>\n",
       "      <th>price</th>\n",
       "      <th>model_year</th>\n",
       "      <th>model</th>\n",
       "      <th>condition</th>\n",
       "      <th>cylinders</th>\n",
       "      <th>fuel</th>\n",
       "      <th>odometer</th>\n",
       "      <th>transmission</th>\n",
       "      <th>type</th>\n",
       "      <th>paint_color</th>\n",
       "      <th>is_4wd</th>\n",
       "      <th>date_posted</th>\n",
       "      <th>days_listed</th>\n",
       "    </tr>\n",
       "  </thead>\n",
       "  <tbody>\n",
       "    <tr>\n",
       "      <th>0</th>\n",
       "      <td>9400</td>\n",
       "      <td>2011.0</td>\n",
       "      <td>bmw x5</td>\n",
       "      <td>good</td>\n",
       "      <td>6.0</td>\n",
       "      <td>gas</td>\n",
       "      <td>145000.0</td>\n",
       "      <td>automatic</td>\n",
       "      <td>SUV</td>\n",
       "      <td>NaN</td>\n",
       "      <td>1.0</td>\n",
       "      <td>2018-06-23</td>\n",
       "      <td>19</td>\n",
       "    </tr>\n",
       "    <tr>\n",
       "      <th>1</th>\n",
       "      <td>25500</td>\n",
       "      <td>NaN</td>\n",
       "      <td>ford f-150</td>\n",
       "      <td>good</td>\n",
       "      <td>6.0</td>\n",
       "      <td>gas</td>\n",
       "      <td>88705.0</td>\n",
       "      <td>automatic</td>\n",
       "      <td>pickup</td>\n",
       "      <td>white</td>\n",
       "      <td>1.0</td>\n",
       "      <td>2018-10-19</td>\n",
       "      <td>50</td>\n",
       "    </tr>\n",
       "    <tr>\n",
       "      <th>2</th>\n",
       "      <td>5500</td>\n",
       "      <td>2013.0</td>\n",
       "      <td>hyundai sonata</td>\n",
       "      <td>like new</td>\n",
       "      <td>4.0</td>\n",
       "      <td>gas</td>\n",
       "      <td>110000.0</td>\n",
       "      <td>automatic</td>\n",
       "      <td>sedan</td>\n",
       "      <td>red</td>\n",
       "      <td>NaN</td>\n",
       "      <td>2019-02-07</td>\n",
       "      <td>79</td>\n",
       "    </tr>\n",
       "    <tr>\n",
       "      <th>3</th>\n",
       "      <td>1500</td>\n",
       "      <td>2003.0</td>\n",
       "      <td>ford f-150</td>\n",
       "      <td>fair</td>\n",
       "      <td>8.0</td>\n",
       "      <td>gas</td>\n",
       "      <td>NaN</td>\n",
       "      <td>automatic</td>\n",
       "      <td>pickup</td>\n",
       "      <td>NaN</td>\n",
       "      <td>NaN</td>\n",
       "      <td>2019-03-22</td>\n",
       "      <td>9</td>\n",
       "    </tr>\n",
       "    <tr>\n",
       "      <th>4</th>\n",
       "      <td>14900</td>\n",
       "      <td>2017.0</td>\n",
       "      <td>chrysler 200</td>\n",
       "      <td>excellent</td>\n",
       "      <td>4.0</td>\n",
       "      <td>gas</td>\n",
       "      <td>80903.0</td>\n",
       "      <td>automatic</td>\n",
       "      <td>sedan</td>\n",
       "      <td>black</td>\n",
       "      <td>NaN</td>\n",
       "      <td>2019-04-02</td>\n",
       "      <td>28</td>\n",
       "    </tr>\n",
       "  </tbody>\n",
       "</table>\n",
       "</div>"
      ],
      "text/plain": [
       "   price  model_year           model  condition  cylinders fuel  odometer  \\\n",
       "0   9400      2011.0          bmw x5       good        6.0  gas  145000.0   \n",
       "1  25500         NaN      ford f-150       good        6.0  gas   88705.0   \n",
       "2   5500      2013.0  hyundai sonata   like new        4.0  gas  110000.0   \n",
       "3   1500      2003.0      ford f-150       fair        8.0  gas       NaN   \n",
       "4  14900      2017.0    chrysler 200  excellent        4.0  gas   80903.0   \n",
       "\n",
       "  transmission    type paint_color  is_4wd date_posted  days_listed  \n",
       "0    automatic     SUV         NaN     1.0  2018-06-23           19  \n",
       "1    automatic  pickup       white     1.0  2018-10-19           50  \n",
       "2    automatic   sedan         red     NaN  2019-02-07           79  \n",
       "3    automatic  pickup         NaN     NaN  2019-03-22            9  \n",
       "4    automatic   sedan       black     NaN  2019-04-02           28  "
      ]
     },
     "metadata": {},
     "output_type": "display_data"
    }
   ],
   "source": [
    "# Display the first 5 rows of the dataset\n",
    "display(vehicles_us.head())"
   ]
  },
  {
   "cell_type": "code",
   "execution_count": 177,
   "id": "83c6336c",
   "metadata": {},
   "outputs": [
    {
     "name": "stdout",
     "output_type": "stream",
     "text": [
      "The DataFrame has 51525 rows and 13 columns\n"
     ]
    }
   ],
   "source": [
    "# Display the shape of 'vehicles_us' DataFrame \n",
    "n_rows, n_cols = vehicles_us.shape\n",
    "print(f\"The DataFrame has {n_rows} rows and {n_cols} columns\") "
   ]
  },
  {
   "cell_type": "code",
   "execution_count": 178,
   "id": "4fd2e748",
   "metadata": {},
   "outputs": [
    {
     "name": "stdout",
     "output_type": "stream",
     "text": [
      "<class 'pandas.core.frame.DataFrame'>\n",
      "RangeIndex: 51525 entries, 0 to 51524\n",
      "Data columns (total 13 columns):\n",
      " #   Column        Non-Null Count  Dtype  \n",
      "---  ------        --------------  -----  \n",
      " 0   price         51525 non-null  int64  \n",
      " 1   model_year    47906 non-null  float64\n",
      " 2   model         51525 non-null  object \n",
      " 3   condition     51525 non-null  object \n",
      " 4   cylinders     46265 non-null  float64\n",
      " 5   fuel          51525 non-null  object \n",
      " 6   odometer      43633 non-null  float64\n",
      " 7   transmission  51525 non-null  object \n",
      " 8   type          51525 non-null  object \n",
      " 9   paint_color   42258 non-null  object \n",
      " 10  is_4wd        25572 non-null  float64\n",
      " 11  date_posted   51525 non-null  object \n",
      " 12  days_listed   51525 non-null  int64  \n",
      "dtypes: float64(4), int64(2), object(7)\n",
      "memory usage: 5.1+ MB\n"
     ]
    }
   ],
   "source": [
    "# Display informative summary of the 'vehicles_us' DataFrame\n",
    "vehicles_us.info()"
   ]
  },
  {
   "cell_type": "code",
   "execution_count": 179,
   "id": "730d372d",
   "metadata": {},
   "outputs": [
    {
     "data": {
      "text/html": [
       "<div>\n",
       "<style scoped>\n",
       "    .dataframe tbody tr th:only-of-type {\n",
       "        vertical-align: middle;\n",
       "    }\n",
       "\n",
       "    .dataframe tbody tr th {\n",
       "        vertical-align: top;\n",
       "    }\n",
       "\n",
       "    .dataframe thead th {\n",
       "        text-align: right;\n",
       "    }\n",
       "</style>\n",
       "<table border=\"1\" class=\"dataframe\">\n",
       "  <thead>\n",
       "    <tr style=\"text-align: right;\">\n",
       "      <th></th>\n",
       "      <th>price</th>\n",
       "      <th>model_year</th>\n",
       "      <th>cylinders</th>\n",
       "      <th>odometer</th>\n",
       "      <th>is_4wd</th>\n",
       "      <th>days_listed</th>\n",
       "    </tr>\n",
       "  </thead>\n",
       "  <tbody>\n",
       "    <tr>\n",
       "      <th>count</th>\n",
       "      <td>51525.000000</td>\n",
       "      <td>47906.000000</td>\n",
       "      <td>46265.000000</td>\n",
       "      <td>43633.000000</td>\n",
       "      <td>25572.0</td>\n",
       "      <td>51525.00000</td>\n",
       "    </tr>\n",
       "    <tr>\n",
       "      <th>mean</th>\n",
       "      <td>12132.464920</td>\n",
       "      <td>2009.750470</td>\n",
       "      <td>6.125235</td>\n",
       "      <td>115553.461738</td>\n",
       "      <td>1.0</td>\n",
       "      <td>39.55476</td>\n",
       "    </tr>\n",
       "    <tr>\n",
       "      <th>std</th>\n",
       "      <td>10040.803015</td>\n",
       "      <td>6.282065</td>\n",
       "      <td>1.660360</td>\n",
       "      <td>65094.611341</td>\n",
       "      <td>0.0</td>\n",
       "      <td>28.20427</td>\n",
       "    </tr>\n",
       "    <tr>\n",
       "      <th>min</th>\n",
       "      <td>1.000000</td>\n",
       "      <td>1908.000000</td>\n",
       "      <td>3.000000</td>\n",
       "      <td>0.000000</td>\n",
       "      <td>1.0</td>\n",
       "      <td>0.00000</td>\n",
       "    </tr>\n",
       "    <tr>\n",
       "      <th>25%</th>\n",
       "      <td>5000.000000</td>\n",
       "      <td>2006.000000</td>\n",
       "      <td>4.000000</td>\n",
       "      <td>70000.000000</td>\n",
       "      <td>1.0</td>\n",
       "      <td>19.00000</td>\n",
       "    </tr>\n",
       "    <tr>\n",
       "      <th>50%</th>\n",
       "      <td>9000.000000</td>\n",
       "      <td>2011.000000</td>\n",
       "      <td>6.000000</td>\n",
       "      <td>113000.000000</td>\n",
       "      <td>1.0</td>\n",
       "      <td>33.00000</td>\n",
       "    </tr>\n",
       "    <tr>\n",
       "      <th>75%</th>\n",
       "      <td>16839.000000</td>\n",
       "      <td>2014.000000</td>\n",
       "      <td>8.000000</td>\n",
       "      <td>155000.000000</td>\n",
       "      <td>1.0</td>\n",
       "      <td>53.00000</td>\n",
       "    </tr>\n",
       "    <tr>\n",
       "      <th>max</th>\n",
       "      <td>375000.000000</td>\n",
       "      <td>2019.000000</td>\n",
       "      <td>12.000000</td>\n",
       "      <td>990000.000000</td>\n",
       "      <td>1.0</td>\n",
       "      <td>271.00000</td>\n",
       "    </tr>\n",
       "  </tbody>\n",
       "</table>\n",
       "</div>"
      ],
      "text/plain": [
       "               price    model_year     cylinders       odometer   is_4wd  \\\n",
       "count   51525.000000  47906.000000  46265.000000   43633.000000  25572.0   \n",
       "mean    12132.464920   2009.750470      6.125235  115553.461738      1.0   \n",
       "std     10040.803015      6.282065      1.660360   65094.611341      0.0   \n",
       "min         1.000000   1908.000000      3.000000       0.000000      1.0   \n",
       "25%      5000.000000   2006.000000      4.000000   70000.000000      1.0   \n",
       "50%      9000.000000   2011.000000      6.000000  113000.000000      1.0   \n",
       "75%     16839.000000   2014.000000      8.000000  155000.000000      1.0   \n",
       "max    375000.000000   2019.000000     12.000000  990000.000000      1.0   \n",
       "\n",
       "       days_listed  \n",
       "count  51525.00000  \n",
       "mean      39.55476  \n",
       "std       28.20427  \n",
       "min        0.00000  \n",
       "25%       19.00000  \n",
       "50%       33.00000  \n",
       "75%       53.00000  \n",
       "max      271.00000  "
      ]
     },
     "execution_count": 179,
     "metadata": {},
     "output_type": "execute_result"
    }
   ],
   "source": [
    "# Display descriptive statistics of the 'vehicles_us' DataFrame\n",
    "vehicles_us.describe()"
   ]
  },
  {
   "cell_type": "markdown",
   "id": "70b521d4",
   "metadata": {},
   "source": [
    "### Duplicates"
   ]
  },
  {
   "cell_type": "code",
   "execution_count": 180,
   "id": "3cf5e58f",
   "metadata": {},
   "outputs": [
    {
     "name": "stdout",
     "output_type": "stream",
     "text": [
      "Number of duplicated vehicles: 0\n"
     ]
    }
   ],
   "source": [
    "# Check for any duplicates in the dataframe\n",
    "duplicated_vehicles_us = vehicles_us[vehicles_us.duplicated()]\n",
    "print(f\"Number of duplicated vehicles: {duplicated_vehicles_us.shape[0]}\")"
   ]
  },
  {
   "cell_type": "code",
   "execution_count": 181,
   "id": "44f967a6",
   "metadata": {},
   "outputs": [
    {
     "data": {
      "text/plain": [
       "price               0\n",
       "model_year       3619\n",
       "model               0\n",
       "condition           0\n",
       "cylinders        5260\n",
       "fuel                0\n",
       "odometer         7892\n",
       "transmission        0\n",
       "type                0\n",
       "paint_color      9267\n",
       "is_4wd          25953\n",
       "date_posted         0\n",
       "days_listed         0\n",
       "dtype: int64"
      ]
     },
     "metadata": {},
     "output_type": "display_data"
    }
   ],
   "source": [
    "# Check for missing values in 'vehicles_us' DataFrame\n",
    "display(vehicles_us.isna().sum())"
   ]
  },
  {
   "cell_type": "code",
   "execution_count": 182,
   "id": "d85c0e26",
   "metadata": {},
   "outputs": [],
   "source": [
    "# Convert 'cylinders', 'odometer', and 'is_4wd' columns to float data type\n",
    "vehicles_us['cylinders'] = vehicles_us['cylinders'].astype(float)\n",
    "vehicles_us['odometer'] = vehicles_us['odometer'].astype(float)\n",
    "vehicles_us['is_4wd'] = vehicles_us['is_4wd'].astype(float)"
   ]
  },
  {
   "cell_type": "code",
   "execution_count": 183,
   "id": "4599147e",
   "metadata": {},
   "outputs": [
    {
     "name": "stdout",
     "output_type": "stream",
     "text": [
      "Average mileage: 115553.4617376756\n"
     ]
    }
   ],
   "source": [
    "# Calculate average mileage\n",
    "avg_mileage = vehicles_us['odometer'].mean()\n",
    "print(\"Average mileage:\", avg_mileage)"
   ]
  },
  {
   "cell_type": "code",
   "execution_count": 184,
   "id": "9d285f8e",
   "metadata": {},
   "outputs": [],
   "source": [
    "# Fill missing odometer values with the average mileage\n",
    "vehicles_us['odometer']  = np.ceil(vehicles_us['odometer'])\n",
    "\n",
    "# Round up odometer values to the nearest whole number\n",
    "vehicles_us['odometer'] = vehicles_us['odometer'].fillna(avg_mileage)"
   ]
  },
  {
   "cell_type": "code",
   "execution_count": 185,
   "id": "d47ad739",
   "metadata": {},
   "outputs": [],
   "source": [
    "# Fill missing values in 'paint_color' column with a space\n",
    "vehicles_us['paint_color'] = vehicles_us['paint_color'].fillna(' ')"
   ]
  },
  {
   "cell_type": "code",
   "execution_count": 186,
   "id": "9fa14e35",
   "metadata": {},
   "outputs": [],
   "source": [
    "# Fill missing values in 'paint_color' column with a 0\n",
    "vehicles_us['is_4wd'] = vehicles_us['is_4wd'].fillna('0')"
   ]
  },
  {
   "cell_type": "code",
   "execution_count": 187,
   "id": "a31e487f",
   "metadata": {},
   "outputs": [],
   "source": [
    "# Fill missing values in 'model_year' column with a space\n",
    "vehicles_us['model_year'] = vehicles_us['model_year'].fillna(' ')"
   ]
  },
  {
   "cell_type": "code",
   "execution_count": 188,
   "id": "3130b94c",
   "metadata": {},
   "outputs": [],
   "source": [
    "# Fill missing 'cylinders' with the median based on grouping by car's model and model year\n",
    "vehicles_us['cylinders'] = vehicles_us.groupby(['model', 'model_year'])['cylinders'].transform(lambda x: x.fillna(x.median()))"
   ]
  },
  {
   "cell_type": "code",
   "execution_count": 189,
   "id": "2621a769",
   "metadata": {},
   "outputs": [
    {
     "name": "stdout",
     "output_type": "stream",
     "text": [
      "price            0\n",
      "model_year       0\n",
      "model            0\n",
      "condition        0\n",
      "cylinders       26\n",
      "fuel             0\n",
      "odometer         0\n",
      "transmission     0\n",
      "type             0\n",
      "paint_color      0\n",
      "is_4wd           0\n",
      "date_posted      0\n",
      "days_listed      0\n",
      "dtype: int64\n"
     ]
    }
   ],
   "source": [
    "# Check for missing values in 'vehicles_us' DataFrame\n",
    "print(vehicles_us.isna().sum())"
   ]
  },
  {
   "cell_type": "code",
   "execution_count": 190,
   "id": "ffd68875",
   "metadata": {},
   "outputs": [],
   "source": [
    "# Convert 'date_posted' column datatype to datetime format\n",
    "vehicles_us['date_posted'] = pd.to_datetime(vehicles_us['date_posted'])"
   ]
  },
  {
   "cell_type": "code",
   "execution_count": 191,
   "id": "730577cd",
   "metadata": {},
   "outputs": [],
   "source": [
    "# Convert 'model_year' to numeric, coercing invalid values to NaN\n",
    "vehicles_us['model_year'] = pd.to_numeric(vehicles_us['model_year'], errors='coerce')"
   ]
  },
  {
   "cell_type": "code",
   "execution_count": 192,
   "id": "17ff7b9f",
   "metadata": {
    "scrolled": true
   },
   "outputs": [
    {
     "name": "stdout",
     "output_type": "stream",
     "text": [
      "<class 'pandas.core.frame.DataFrame'>\n",
      "RangeIndex: 51525 entries, 0 to 51524\n",
      "Data columns (total 13 columns):\n",
      " #   Column        Non-Null Count  Dtype         \n",
      "---  ------        --------------  -----         \n",
      " 0   price         51525 non-null  int64         \n",
      " 1   model_year    47906 non-null  float64       \n",
      " 2   model         51525 non-null  object        \n",
      " 3   condition     51525 non-null  object        \n",
      " 4   cylinders     51499 non-null  float64       \n",
      " 5   fuel          51525 non-null  object        \n",
      " 6   odometer      51525 non-null  float64       \n",
      " 7   transmission  51525 non-null  object        \n",
      " 8   type          51525 non-null  object        \n",
      " 9   paint_color   51525 non-null  object        \n",
      " 10  is_4wd        51525 non-null  object        \n",
      " 11  date_posted   51525 non-null  datetime64[ns]\n",
      " 12  days_listed   51525 non-null  int64         \n",
      "dtypes: datetime64[ns](1), float64(3), int64(2), object(7)\n",
      "memory usage: 5.1+ MB\n"
     ]
    }
   ],
   "source": [
    "# Display informative summary of the 'vehicles_us' DataFrame\n",
    "vehicles_us.info()"
   ]
  },
  {
   "cell_type": "code",
   "execution_count": 193,
   "id": "2ddfd948",
   "metadata": {
    "scrolled": true
   },
   "outputs": [],
   "source": [
    "# Extract the first word from 'model' as the 'manufacturer'\n",
    "vehicles_us['manufacturer'] = vehicles_us['model'].str.split().str[0]\n",
    "\n",
    "# Extract the second word from 'model' as the 'type'\n",
    "vehicles_us['type'] = vehicles_us['model'].str.split().str[1]"
   ]
  },
  {
   "cell_type": "code",
   "execution_count": 194,
   "id": "bf0fc0ae",
   "metadata": {},
   "outputs": [
    {
     "name": "stdout",
     "output_type": "stream",
     "text": [
      "            model manufacturer    type\n",
      "0          bmw x5          bmw      x5\n",
      "1      ford f-150         ford   f-150\n",
      "2  hyundai sonata      hyundai  sonata\n",
      "3      ford f-150         ford   f-150\n",
      "4    chrysler 200     chrysler     200\n"
     ]
    }
   ],
   "source": [
    "# Display the first 5 rows of 'model', 'manufacturer', and 'type' columns\n",
    "print(vehicles_us[['model','manufacturer','type']].head())"
   ]
  },
  {
   "cell_type": "code",
   "execution_count": 195,
   "id": "46bdc1ee",
   "metadata": {},
   "outputs": [],
   "source": [
    "# Count number of vehicles for each combination of manufacturer and type\n",
    "manufacturer_type_counts = vehicles_us.groupby(['manufacturer', 'type']).size().reset_index(name='count')\n"
   ]
  },
  {
   "cell_type": "code",
   "execution_count": 196,
   "id": "a0851a95",
   "metadata": {},
   "outputs": [
    {
     "data": {
      "image/png": "[encoded data removed]",
      "text/plain": [
       "<Figure size 1000x900 with 1 Axes>"
      ]
     },
     "metadata": {},
     "output_type": "display_data"
    }
   ],
   "source": [
    "# Graph a grouped bar chart showing vehicle counts by type for the manufactures\n",
    "plt.figure(figsize=(10, 9))\n",
    "sns.set_style('whitegrid')\n",
    "sns.histplot(data=manufacturer_type_counts, \n",
    "             x='manufacturer', \n",
    "             y='count', \n",
    "             hue='type')\n",
    "plt.title('Vehicle types by manufacturer')\n",
    "plt.xlabel('Manufacturer')\n",
    "plt.ylabel('Number of Vehicles')\n",
    "plt.xticks(rotation=45, ha='right')\n",
    "plt.tight_layout()\n",
    "plt.show()"
   ]
  },
  {
   "cell_type": "markdown",
   "id": "ce201aed",
   "metadata": {},
   "source": [
    "The histogram above shows the significant variation in the model type across different manufacturers. Manufacturers such as Ford and Chevrolet are more skewed toward truck and SUV production. Chevrolet common model types are equinox, tahoe, and transverse. Thoses manufacturers are more into customers seeking utility vehicles. While manufacturers such as hyundai, honda, and toyota have a broader distribution offering camry, elantra, sonata like compact cars. Those manufacturers are more into customers needs. "
   ]
  },
  {
   "cell_type": "code",
   "execution_count": 197,
   "id": "2b7a9daf",
   "metadata": {},
   "outputs": [
    {
     "data": {
      "image/png": "[encoded data removed]",
      "text/plain": [
       "<Figure size 800x600 with 1 Axes>"
      ]
     },
     "metadata": {},
     "output_type": "display_data"
    }
   ],
   "source": [
    "# Create a histogram to visualize the average price distribution for each manufacturer. \n",
    "plt.figure(figsize=(8, 6))\n",
    "sns.histplot(data=vehicles_us, \n",
    "             x='price', \n",
    "             hue='manufacturer', \n",
    "             bins=40)\n",
    "plt.title('Price distribution between manufacturers')\n",
    "plt.xlabel('Price')\n",
    "plt.ylabel('Number of Vehicles')\n",
    "plt.xticks(rotation=90)\n",
    "plt.show()"
   ]
  },
  {
   "cell_type": "markdown",
   "id": "984151cf",
   "metadata": {},
   "source": [
    "The histogram above shows the price distibution among various car manufacturers. Manufacturers like ford, hyundai, honda, chevrolet, and toyota tend to have larger number of cars in lower price range. While manufacturers like mercedes-benz, and bmw tend to have their cars in higher price range. Among all manufacturers such as ford, hyundai, and toyota tend to have larger number of cars compare to other manufacturers. "
   ]
  },
  {
   "cell_type": "code",
   "execution_count": 198,
   "id": "a0fe2883",
   "metadata": {},
   "outputs": [
    {
     "data": {
      "image/png": "[encoded data removed]",
      "text/plain": [
       "<Figure size 800x600 with 1 Axes>"
      ]
     },
     "metadata": {},
     "output_type": "display_data"
    }
   ],
   "source": [
    "# Create a histogram to visualize the distribution of vehicle model years by its condition\n",
    "plt.figure(figsize=(8, 6))\n",
    "sns.histplot(data=vehicles_us, \n",
    "             x='model_year', \n",
    "             hue='condition', \n",
    "             bins=50)\n",
    "plt.title('Condition vs Model Year')\n",
    "plt.xlabel('Model Year')\n",
    "plt.ylabel('Number of Vehicles')\n",
    "plt.xticks(rotation=50)\n",
    "plt.show()"
   ]
  },
  {
   "cell_type": "markdown",
   "id": "c7a3faa9",
   "metadata": {},
   "source": [
    "The histogram above shows the condition of the cars based on its model year. Here the trend shows that the cars in 'new', or 'excellent' conditions are mostly from recent model years. In this graph, one can see that those cars are from 2010 to 2020 model years. Along with it, there is a drop-off in the number of cars in top condition as the model year decreases that are years after 2010 which reflects to the wear and tear over time. As expected it can be seen that the number of cars which does not have recent years doesn't have that good condition. Because of this, the number of cars decreases as expected. "
   ]
  },
  {
   "cell_type": "code",
   "execution_count": 199,
   "id": "f5614273",
   "metadata": {},
   "outputs": [
    {
     "data": {
      "image/png": "[encoded data removed]",
      "text/plain": [
       "<Figure size 800x600 with 1 Axes>"
      ]
     },
     "metadata": {},
     "output_type": "display_data"
    }
   ],
   "source": [
    "# Create a histogram to visualize the distribution of vehicle mileage by manufacturer\n",
    "plt.figure(figsize=(8, 6))\n",
    "sns.histplot(data=vehicles_us, \n",
    "             x='odometer', \n",
    "             hue='manufacturer', \n",
    "             bins=50)\n",
    "plt.title('Mileage of each manufacturer')\n",
    "plt.xlabel('Mileage')\n",
    "plt.ylabel('Number of vehicles')\n",
    "plt.show()"
   ]
  },
  {
   "cell_type": "markdown",
   "id": "3da8c039",
   "metadata": {},
   "source": [
    "The histogram above shows the odometer reading (mileage) of the car based on the manufacturer of the car. From the graph, it can be seen that manufacturers such as ford and chevrolet, have vehicles with a broad range of mileage including high mileage cars which suggests that these vehicles would be durable and are used for longer periods. Along with this,  manufacturers such as hyundai, toyota, and honda have vehicles with high mileage and so the number of vehicles are more. While manufacturers such as BMW vehicles are mostly with lower mileage signifying newer models or be luxury cars which have less frequent usage. "
   ]
  },
  {
   "cell_type": "code",
   "execution_count": 200,
   "id": "e6968542",
   "metadata": {},
   "outputs": [
    {
     "data": {
      "image/png": "[encoded data removed]",
      "text/plain": [
       "<Figure size 800x600 with 1 Axes>"
      ]
     },
     "metadata": {},
     "output_type": "display_data"
    }
   ],
   "source": [
    "# Create a Scatter plot to visualize the distribution of vehicle price versus model year\n",
    "plt.figure(figsize=(8, 6))\n",
    "sns.scatterplot(data=vehicles_us, \n",
    "                x='model_year', \n",
    "                y='price')\n",
    "plt.title('Price based on the model year of the car')\n",
    "plt.xlabel('Model Year')\n",
    "plt.ylabel('Price')\n",
    "plt.show()"
   ]
  },
  {
   "cell_type": "markdown",
   "id": "6a0a6a0d",
   "metadata": {},
   "source": [
    "The scatterplot above shows a positive relationship between the model year of a car and its price. As it can be seen, newer cars have higher prices as expected. Conversly, older cars tend to priced lower which is as expected based on the factors such as classic or rare models that retain its value despite their age. Along with this, newer model year cars prices may vary significantly based on the factors such as brands, model, or any additional special features."
   ]
  },
  {
   "cell_type": "code",
   "execution_count": 201,
   "id": "866d632f",
   "metadata": {},
   "outputs": [
    {
     "data": {
      "image/png": "[encoded data removed]",
      "text/plain": [
       "<Figure size 800x600 with 1 Axes>"
      ]
     },
     "metadata": {},
     "output_type": "display_data"
    }
   ],
   "source": [
    "# Create a scatterplot to visualize the distribution of vehicle price versus odometer reading\n",
    "plt.figure(figsize=(8, 6))\n",
    "sns.scatterplot(data=vehicles_us, \n",
    "                x='odometer', \n",
    "                y='price')\n",
    "plt.title('Price based on the odometer reading of the car')\n",
    "plt.xlabel('Odometer')\n",
    "plt.ylabel('Price')\n",
    "plt.show()"
   ]
  },
  {
   "cell_type": "markdown",
   "id": "e6763aa4",
   "metadata": {},
   "source": [
    "The scatterplot above demonstrates a inverse relationship between a car's odometer and the price of a car. In the graph above the cars with higher mileage have lower price which makes sense as it demonstrates the deprication of the car value due to increased wear and tear. However, there are few vehicles that have traveled long distances and still have relastively high prices which might have due to certain luxury models or well maintained vehicles. Most of the expensive cars have very less mileage which makes sense as those cars will be the brand new cars. Conversly, there are the cars with low odometer reading and are priced lower which can be due to fasctors such as car model, and mechanical issues."
   ]
  },
  {
   "cell_type": "code",
   "execution_count": 202,
   "id": "6d46f866",
   "metadata": {},
   "outputs": [
    {
     "data": {
      "image/png": "[encoded data removed]",
      "text/plain": [
       "<Figure size 800x600 with 1 Axes>"
      ]
     },
     "metadata": {},
     "output_type": "display_data"
    }
   ],
   "source": [
    "# Create a scatterplot to visualize the distribution of odometer reading versus model year of the car\n",
    "plt.figure(figsize=(8, 6))\n",
    "sns.scatterplot(data=vehicles_us, \n",
    "                x='model_year', \n",
    "                y='odometer')\n",
    "plt.title('Odometer reading based of the car based on the model year')\n",
    "plt.xlabel('Model Year')\n",
    "plt.ylabel('Odometer')\n",
    "plt.show()"
   ]
  },
  {
   "cell_type": "markdown",
   "id": "ca23d6aa",
   "metadata": {},
   "source": [
    "The scatterplot shown above shows the odometer reading (Mileage) of the car based on the model year. Newer cars (brand new cars)tend to have lower odometer readings, which makes sense as they haven't been on the road. Along with this there are some newer cars (outliers) which have unusally high odometer readings which suggests that these cars are driven extensively in a short period of time. Cars which are 20 to 50 years old tend to show higher odometer readings, indicating that they have been driven more over time. Along with that, cars which are more than 50 - 60 years old have very low odometer readings indicating that they are not much driven or have been well-preserved."
   ]
  },
  {
   "cell_type": "markdown",
   "id": "6a20e937",
   "metadata": {},
   "source": [
    "In this project using the car sales advertisements data a interactive web application was developed using Streamlit and deployed to a cloud service to make it accessible to the public using Render platform. From the Statistical Data Analysis it was known that manufacturers such as ford and chevrolet are more skewed towards truck and SUV production which signifies that the vehicles by those manufactures are more durable. high mileage and are customers seeking utility vehicles. Along with this, manufacturers such as hyundai, honda, and toyota are have a broader distribution offering camry, elantra, sonata like compact cars which signifies that those manufacturers are more into diverse customers needs. So those manufacturers tend to have larger number of cars in lower price range. Cars with recent model years tend to be in 'new' or 'excellent' condition. While there is a drop-off in the number of cars in top condition as the model year are not recent which refects to the wear and tear of the cars over time and so those cars are cars from older model years decreases. Along with this, a positive relationship was seen between the model year of a car and its price. As expected the newer cars have higher prices and older cars have lower prices. A inverse relationship between a car's odometer reading and the price of a car. As the cars with higher mileage tend to have lower prices which demonstrates the depriciation of cars over time. While the cars with lower mileage tend to have higher prices as those cars are most likely the newer or luxury cars. "
   ]
  }
 ],
 "metadata": {
  "ExecuteTimeLog": [
   {
    "duration": 155,
    "start_time": "2024-10-10T04:20:39.516Z"
   },
   {
    "duration": 894,
    "start_time": "2024-10-10T04:20:51.305Z"
   },
   {
    "duration": 55,
    "start_time": "2024-10-10T04:20:53.516Z"
   },
   {
    "duration": 20,
    "start_time": "2024-10-10T04:22:34.715Z"
   },
   {
    "duration": 10,
    "start_time": "2024-10-10T04:22:43.775Z"
   },
   {
    "duration": 43,
    "start_time": "2024-10-10T04:24:52.252Z"
   },
   {
    "duration": 3,
    "start_time": "2024-10-10T04:25:14.010Z"
   },
   {
    "duration": 19,
    "start_time": "2024-10-10T04:25:29.238Z"
   },
   {
    "duration": 27,
    "start_time": "2024-10-10T04:25:38.790Z"
   },
   {
    "duration": 29,
    "start_time": "2024-10-10T04:29:23.799Z"
   },
   {
    "duration": 16,
    "start_time": "2024-10-10T04:29:54.415Z"
   },
   {
    "duration": 17,
    "start_time": "2024-10-10T04:30:11.835Z"
   },
   {
    "duration": 5,
    "start_time": "2024-10-10T04:30:17.663Z"
   },
   {
    "duration": 5,
    "start_time": "2024-10-10T04:30:29.128Z"
   },
   {
    "duration": 18,
    "start_time": "2024-10-10T04:30:36.211Z"
   },
   {
    "duration": 6,
    "start_time": "2024-10-10T04:30:47.588Z"
   },
   {
    "duration": 5,
    "start_time": "2024-10-10T04:31:54.841Z"
   },
   {
    "duration": 18,
    "start_time": "2024-10-10T04:32:01.910Z"
   },
   {
    "duration": 5,
    "start_time": "2024-10-10T04:32:09.265Z"
   },
   {
    "duration": 8,
    "start_time": "2024-10-10T04:32:31.877Z"
   },
   {
    "duration": 11,
    "start_time": "2024-10-10T04:32:42.924Z"
   },
   {
    "duration": 6,
    "start_time": "2024-10-10T04:33:29.035Z"
   },
   {
    "duration": 4,
    "start_time": "2024-10-10T04:33:48.809Z"
   },
   {
    "duration": 6,
    "start_time": "2024-10-10T04:35:43.496Z"
   },
   {
    "duration": 24,
    "start_time": "2024-10-10T04:35:53.933Z"
   },
   {
    "duration": 12,
    "start_time": "2024-10-10T04:36:06.343Z"
   },
   {
    "duration": 15,
    "start_time": "2024-10-10T04:36:14.079Z"
   },
   {
    "duration": 56,
    "start_time": "2024-10-10T04:36:27.145Z"
   },
   {
    "duration": 117,
    "start_time": "2024-10-10T04:36:38.529Z"
   },
   {
    "duration": 151,
    "start_time": "2024-10-10T04:38:20.672Z"
   },
   {
    "duration": 25,
    "start_time": "2024-10-10T04:39:14.576Z"
   },
   {
    "duration": 17,
    "start_time": "2024-10-10T04:39:30.814Z"
   },
   {
    "duration": 163,
    "start_time": "2024-10-10T04:41:21.842Z"
   },
   {
    "duration": 21,
    "start_time": "2024-10-10T04:42:15.651Z"
   },
   {
    "duration": 672,
    "start_time": "2024-10-10T04:42:16.633Z"
   },
   {
    "duration": 32,
    "start_time": "2024-10-10T04:42:36.350Z"
   },
   {
    "duration": 54,
    "start_time": "2024-10-10T04:42:48.449Z"
   },
   {
    "duration": 10,
    "start_time": "2024-10-10T04:44:57.084Z"
   },
   {
    "duration": 13,
    "start_time": "2024-10-10T04:45:05.752Z"
   },
   {
    "duration": 49,
    "start_time": "2024-10-10T04:45:22.400Z"
   },
   {
    "duration": 3,
    "start_time": "2024-10-10T04:45:27.423Z"
   },
   {
    "duration": 4,
    "start_time": "2024-10-10T04:45:28.309Z"
   },
   {
    "duration": 48,
    "start_time": "2024-10-10T04:45:30.551Z"
   },
   {
    "duration": 760,
    "start_time": "2024-10-10T04:45:45.059Z"
   },
   {
    "duration": 57,
    "start_time": "2024-10-10T04:45:45.821Z"
   },
   {
    "duration": 18,
    "start_time": "2024-10-10T04:45:45.880Z"
   },
   {
    "duration": 3,
    "start_time": "2024-10-10T04:45:45.900Z"
   },
   {
    "duration": 18,
    "start_time": "2024-10-10T04:45:45.906Z"
   },
   {
    "duration": 26,
    "start_time": "2024-10-10T04:45:45.925Z"
   },
   {
    "duration": 57,
    "start_time": "2024-10-10T04:45:45.952Z"
   },
   {
    "duration": 16,
    "start_time": "2024-10-10T04:45:46.010Z"
   },
   {
    "duration": 4,
    "start_time": "2024-10-10T04:45:46.027Z"
   },
   {
    "duration": 5,
    "start_time": "2024-10-10T04:45:46.032Z"
   },
   {
    "duration": 5,
    "start_time": "2024-10-10T04:45:46.038Z"
   },
   {
    "duration": 5,
    "start_time": "2024-10-10T04:45:46.045Z"
   },
   {
    "duration": 37,
    "start_time": "2024-10-10T04:45:46.051Z"
   },
   {
    "duration": 7,
    "start_time": "2024-10-10T04:45:46.091Z"
   },
   {
    "duration": 10,
    "start_time": "2024-10-10T04:45:46.099Z"
   },
   {
    "duration": 3,
    "start_time": "2024-10-10T04:45:46.110Z"
   },
   {
    "duration": 9,
    "start_time": "2024-10-10T04:45:46.115Z"
   },
   {
    "duration": 793,
    "start_time": "2024-10-10T04:45:46.126Z"
   },
   {
    "duration": 0,
    "start_time": "2024-10-10T04:45:46.921Z"
   },
   {
    "duration": 0,
    "start_time": "2024-10-10T04:45:46.922Z"
   },
   {
    "duration": 0,
    "start_time": "2024-10-10T04:45:46.923Z"
   },
   {
    "duration": 0,
    "start_time": "2024-10-10T04:45:46.924Z"
   },
   {
    "duration": 0,
    "start_time": "2024-10-10T04:45:46.926Z"
   },
   {
    "duration": 0,
    "start_time": "2024-10-10T04:45:46.927Z"
   },
   {
    "duration": 0,
    "start_time": "2024-10-10T04:45:46.928Z"
   },
   {
    "duration": 0,
    "start_time": "2024-10-10T04:45:46.930Z"
   },
   {
    "duration": 5,
    "start_time": "2024-10-10T04:49:14.647Z"
   },
   {
    "duration": 3,
    "start_time": "2024-10-10T04:49:15.670Z"
   },
   {
    "duration": 4,
    "start_time": "2024-10-10T04:49:17.840Z"
   },
   {
    "duration": 46,
    "start_time": "2024-10-10T04:49:19.395Z"
   },
   {
    "duration": 17,
    "start_time": "2024-10-10T04:50:18.975Z"
   },
   {
    "duration": 25,
    "start_time": "2024-10-10T04:50:38.293Z"
   },
   {
    "duration": 779,
    "start_time": "2024-10-10T04:54:39.759Z"
   },
   {
    "duration": 61,
    "start_time": "2024-10-10T04:54:40.540Z"
   },
   {
    "duration": 14,
    "start_time": "2024-10-10T04:54:40.602Z"
   },
   {
    "duration": 3,
    "start_time": "2024-10-10T04:54:40.618Z"
   },
   {
    "duration": 19,
    "start_time": "2024-10-10T04:54:40.622Z"
   },
   {
    "duration": 46,
    "start_time": "2024-10-10T04:54:40.642Z"
   },
   {
    "duration": 29,
    "start_time": "2024-10-10T04:54:40.689Z"
   },
   {
    "duration": 14,
    "start_time": "2024-10-10T04:54:40.720Z"
   },
   {
    "duration": 4,
    "start_time": "2024-10-10T04:54:40.735Z"
   },
   {
    "duration": 4,
    "start_time": "2024-10-10T04:54:40.742Z"
   },
   {
    "duration": 39,
    "start_time": "2024-10-10T04:54:40.747Z"
   },
   {
    "duration": 4,
    "start_time": "2024-10-10T04:54:40.788Z"
   },
   {
    "duration": 4,
    "start_time": "2024-10-10T04:54:40.794Z"
   },
   {
    "duration": 7,
    "start_time": "2024-10-10T04:54:40.800Z"
   },
   {
    "duration": 22,
    "start_time": "2024-10-10T04:54:40.809Z"
   },
   {
    "duration": 3,
    "start_time": "2024-10-10T04:54:40.832Z"
   },
   {
    "duration": 9,
    "start_time": "2024-10-10T04:54:40.836Z"
   },
   {
    "duration": 48,
    "start_time": "2024-10-10T04:54:40.847Z"
   },
   {
    "duration": 806,
    "start_time": "2024-10-10T04:54:40.897Z"
   },
   {
    "duration": 0,
    "start_time": "2024-10-10T04:54:41.705Z"
   },
   {
    "duration": 0,
    "start_time": "2024-10-10T04:54:41.707Z"
   },
   {
    "duration": 0,
    "start_time": "2024-10-10T04:54:41.708Z"
   },
   {
    "duration": 0,
    "start_time": "2024-10-10T04:54:41.709Z"
   },
   {
    "duration": 0,
    "start_time": "2024-10-10T04:54:41.710Z"
   },
   {
    "duration": 0,
    "start_time": "2024-10-10T04:54:41.711Z"
   },
   {
    "duration": 0,
    "start_time": "2024-10-10T04:54:41.712Z"
   },
   {
    "duration": 0,
    "start_time": "2024-10-10T04:54:41.713Z"
   },
   {
    "duration": 101,
    "start_time": "2024-10-10T04:59:11.655Z"
   },
   {
    "duration": 12,
    "start_time": "2024-10-10T04:59:31.208Z"
   },
   {
    "duration": 30,
    "start_time": "2024-10-10T05:00:05.185Z"
   },
   {
    "duration": 314,
    "start_time": "2024-10-10T05:02:35.806Z"
   },
   {
    "duration": 24,
    "start_time": "2024-10-10T05:02:47.358Z"
   },
   {
    "duration": 58,
    "start_time": "2024-10-10T05:03:07.425Z"
   },
   {
    "duration": 6,
    "start_time": "2024-10-10T05:03:13.939Z"
   },
   {
    "duration": 4,
    "start_time": "2024-10-10T05:03:15.609Z"
   },
   {
    "duration": 49,
    "start_time": "2024-10-10T05:03:17.647Z"
   },
   {
    "duration": 16,
    "start_time": "2024-10-10T05:05:41.238Z"
   },
   {
    "duration": 10,
    "start_time": "2024-10-10T05:05:49.630Z"
   },
   {
    "duration": 12,
    "start_time": "2024-10-10T05:06:42.656Z"
   },
   {
    "duration": 3,
    "start_time": "2024-10-10T05:07:05.135Z"
   },
   {
    "duration": 12,
    "start_time": "2024-10-10T05:07:05.141Z"
   },
   {
    "duration": 6,
    "start_time": "2024-10-10T05:07:42.245Z"
   },
   {
    "duration": 51,
    "start_time": "2024-10-10T05:07:43.547Z"
   },
   {
    "duration": 20,
    "start_time": "2024-10-10T05:08:32.630Z"
   },
   {
    "duration": 44,
    "start_time": "2024-10-10T05:11:22.694Z"
   },
   {
    "duration": 55,
    "start_time": "2024-10-10T05:12:28.490Z"
   },
   {
    "duration": 45,
    "start_time": "2024-10-10T05:13:38.696Z"
   },
   {
    "duration": 58,
    "start_time": "2024-10-10T05:14:00.359Z"
   },
   {
    "duration": 6,
    "start_time": "2024-10-10T05:25:53.167Z"
   },
   {
    "duration": 3,
    "start_time": "2024-10-10T05:26:32.984Z"
   },
   {
    "duration": 15,
    "start_time": "2024-10-10T05:26:34.908Z"
   },
   {
    "duration": 843,
    "start_time": "2024-10-10T05:27:08.019Z"
   },
   {
    "duration": 66,
    "start_time": "2024-10-10T05:27:08.864Z"
   },
   {
    "duration": 15,
    "start_time": "2024-10-10T05:27:08.932Z"
   },
   {
    "duration": 3,
    "start_time": "2024-10-10T05:27:08.948Z"
   },
   {
    "duration": 35,
    "start_time": "2024-10-10T05:27:08.953Z"
   },
   {
    "duration": 27,
    "start_time": "2024-10-10T05:27:08.989Z"
   },
   {
    "duration": 29,
    "start_time": "2024-10-10T05:27:09.017Z"
   },
   {
    "duration": 14,
    "start_time": "2024-10-10T05:27:09.048Z"
   },
   {
    "duration": 25,
    "start_time": "2024-10-10T05:27:09.064Z"
   },
   {
    "duration": 5,
    "start_time": "2024-10-10T05:27:09.091Z"
   },
   {
    "duration": 5,
    "start_time": "2024-10-10T05:27:09.097Z"
   },
   {
    "duration": 5,
    "start_time": "2024-10-10T05:27:09.104Z"
   },
   {
    "duration": 4,
    "start_time": "2024-10-10T05:27:09.111Z"
   },
   {
    "duration": 6,
    "start_time": "2024-10-10T05:27:09.119Z"
   },
   {
    "duration": 23,
    "start_time": "2024-10-10T05:27:09.127Z"
   },
   {
    "duration": 36,
    "start_time": "2024-10-10T05:27:09.151Z"
   },
   {
    "duration": 15,
    "start_time": "2024-10-10T05:27:09.189Z"
   },
   {
    "duration": 11,
    "start_time": "2024-10-10T05:27:09.206Z"
   },
   {
    "duration": 122,
    "start_time": "2024-10-10T05:27:09.219Z"
   },
   {
    "duration": 141,
    "start_time": "2024-10-10T05:27:09.345Z"
   },
   {
    "duration": 14,
    "start_time": "2024-10-10T05:27:09.488Z"
   },
   {
    "duration": 2556,
    "start_time": "2024-10-10T15:34:58.049Z"
   },
   {
    "duration": 81,
    "start_time": "2024-10-10T15:35:00.607Z"
   },
   {
    "duration": 14,
    "start_time": "2024-10-10T15:35:00.690Z"
   },
   {
    "duration": 5,
    "start_time": "2024-10-10T15:35:00.708Z"
   },
   {
    "duration": 20,
    "start_time": "2024-10-10T15:35:00.715Z"
   },
   {
    "duration": 27,
    "start_time": "2024-10-10T15:35:00.737Z"
   },
   {
    "duration": 44,
    "start_time": "2024-10-10T15:35:00.766Z"
   },
   {
    "duration": 16,
    "start_time": "2024-10-10T15:35:00.812Z"
   },
   {
    "duration": 3,
    "start_time": "2024-10-10T15:35:00.832Z"
   },
   {
    "duration": 5,
    "start_time": "2024-10-10T15:35:00.838Z"
   },
   {
    "duration": 5,
    "start_time": "2024-10-10T15:35:00.845Z"
   },
   {
    "duration": 5,
    "start_time": "2024-10-10T15:35:00.851Z"
   },
   {
    "duration": 5,
    "start_time": "2024-10-10T15:35:00.858Z"
   },
   {
    "duration": 41,
    "start_time": "2024-10-10T15:35:00.864Z"
   },
   {
    "duration": 24,
    "start_time": "2024-10-10T15:35:00.907Z"
   },
   {
    "duration": 4,
    "start_time": "2024-10-10T15:35:00.932Z"
   },
   {
    "duration": 16,
    "start_time": "2024-10-10T15:35:00.937Z"
   },
   {
    "duration": 11,
    "start_time": "2024-10-10T15:35:00.955Z"
   },
   {
    "duration": 132,
    "start_time": "2024-10-10T15:35:00.968Z"
   },
   {
    "duration": 173,
    "start_time": "2024-10-10T15:35:01.106Z"
   },
   {
    "duration": 32,
    "start_time": "2024-10-10T15:35:01.283Z"
   },
   {
    "duration": 804,
    "start_time": "2024-10-10T15:38:00.911Z"
   },
   {
    "duration": 5,
    "start_time": "2024-10-10T15:38:06.420Z"
   },
   {
    "duration": 9,
    "start_time": "2024-10-10T15:38:08.057Z"
   },
   {
    "duration": 23,
    "start_time": "2024-10-10T15:38:37.976Z"
   },
   {
    "duration": 27,
    "start_time": "2024-10-10T15:38:56.069Z"
   },
   {
    "duration": 25,
    "start_time": "2024-10-10T15:38:58.924Z"
   },
   {
    "duration": 44,
    "start_time": "2024-10-10T15:39:01.485Z"
   },
   {
    "duration": 5,
    "start_time": "2024-10-10T15:39:43.463Z"
   },
   {
    "duration": 50,
    "start_time": "2024-10-10T15:40:28.010Z"
   },
   {
    "duration": 6,
    "start_time": "2024-10-10T15:40:58.156Z"
   },
   {
    "duration": 5,
    "start_time": "2024-10-10T15:42:54.198Z"
   },
   {
    "duration": 23,
    "start_time": "2024-10-10T15:43:36.585Z"
   },
   {
    "duration": 19,
    "start_time": "2024-10-10T15:45:10.842Z"
   },
   {
    "duration": 214,
    "start_time": "2024-10-10T15:58:22.435Z"
   },
   {
    "duration": 47,
    "start_time": "2024-10-10T16:00:31.362Z"
   },
   {
    "duration": 37,
    "start_time": "2024-10-10T16:01:54.398Z"
   },
   {
    "duration": 830,
    "start_time": "2024-10-10T16:02:03.927Z"
   },
   {
    "duration": 536,
    "start_time": "2024-10-10T16:03:05.876Z"
   },
   {
    "duration": 18,
    "start_time": "2024-10-10T16:03:32.335Z"
   },
   {
    "duration": 18,
    "start_time": "2024-10-10T16:04:14.895Z"
   },
   {
    "duration": 25,
    "start_time": "2024-10-10T16:05:36.269Z"
   },
   {
    "duration": 38,
    "start_time": "2024-10-10T16:05:40.164Z"
   },
   {
    "duration": 25,
    "start_time": "2024-10-10T16:05:42.339Z"
   },
   {
    "duration": 28,
    "start_time": "2024-10-10T16:05:45.413Z"
   },
   {
    "duration": 2,
    "start_time": "2024-10-10T16:05:48.072Z"
   },
   {
    "duration": 56,
    "start_time": "2024-10-10T16:05:49.031Z"
   },
   {
    "duration": 11,
    "start_time": "2024-10-10T16:05:49.620Z"
   },
   {
    "duration": 2,
    "start_time": "2024-10-10T16:05:51.804Z"
   },
   {
    "duration": 18,
    "start_time": "2024-10-10T16:05:52.929Z"
   },
   {
    "duration": 26,
    "start_time": "2024-10-10T16:05:54.423Z"
   },
   {
    "duration": 28,
    "start_time": "2024-10-10T16:05:55.974Z"
   },
   {
    "duration": 14,
    "start_time": "2024-10-10T16:05:57.686Z"
   },
   {
    "duration": 19,
    "start_time": "2024-10-10T16:06:00.725Z"
   },
   {
    "duration": 4,
    "start_time": "2024-10-10T16:06:05.500Z"
   },
   {
    "duration": 9,
    "start_time": "2024-10-10T16:07:16.907Z"
   },
   {
    "duration": 15,
    "start_time": "2024-10-10T16:08:02.480Z"
   },
   {
    "duration": 6,
    "start_time": "2024-10-10T16:08:13.209Z"
   },
   {
    "duration": 5,
    "start_time": "2024-10-10T16:08:19.671Z"
   },
   {
    "duration": 26,
    "start_time": "2024-10-10T16:08:34.362Z"
   },
   {
    "duration": 24,
    "start_time": "2024-10-10T16:08:48.716Z"
   },
   {
    "duration": 16,
    "start_time": "2024-10-10T16:11:32.543Z"
   },
   {
    "duration": 19,
    "start_time": "2024-10-10T16:14:16.450Z"
   },
   {
    "duration": 59,
    "start_time": "2024-10-10T16:20:56.626Z"
   },
   {
    "duration": 67,
    "start_time": "2024-10-10T16:22:18.613Z"
   },
   {
    "duration": 25,
    "start_time": "2024-10-10T16:22:29.316Z"
   },
   {
    "duration": 52,
    "start_time": "2024-10-10T16:22:32.713Z"
   },
   {
    "duration": 12,
    "start_time": "2024-10-10T16:22:35.627Z"
   },
   {
    "duration": 2,
    "start_time": "2024-10-10T16:23:06.912Z"
   },
   {
    "duration": 55,
    "start_time": "2024-10-10T16:23:08.271Z"
   },
   {
    "duration": 11,
    "start_time": "2024-10-10T16:23:08.932Z"
   },
   {
    "duration": 3,
    "start_time": "2024-10-10T16:23:11.274Z"
   },
   {
    "duration": 18,
    "start_time": "2024-10-10T16:23:12.751Z"
   },
   {
    "duration": 26,
    "start_time": "2024-10-10T16:23:15.260Z"
   },
   {
    "duration": 28,
    "start_time": "2024-10-10T16:23:17.033Z"
   },
   {
    "duration": 15,
    "start_time": "2024-10-10T16:23:18.658Z"
   },
   {
    "duration": 3,
    "start_time": "2024-10-10T16:23:43.238Z"
   },
   {
    "duration": 18,
    "start_time": "2024-10-10T16:23:44.445Z"
   },
   {
    "duration": 26,
    "start_time": "2024-10-10T16:23:46.376Z"
   },
   {
    "duration": 27,
    "start_time": "2024-10-10T16:23:48.027Z"
   },
   {
    "duration": 15,
    "start_time": "2024-10-10T16:23:49.540Z"
   },
   {
    "duration": 18,
    "start_time": "2024-10-10T16:23:51.282Z"
   },
   {
    "duration": 6,
    "start_time": "2024-10-10T16:23:53.605Z"
   },
   {
    "duration": 20,
    "start_time": "2024-10-10T16:23:55.503Z"
   },
   {
    "duration": 52,
    "start_time": "2024-10-10T16:24:05.789Z"
   },
   {
    "duration": 24,
    "start_time": "2024-10-10T16:24:34.317Z"
   },
   {
    "duration": 50,
    "start_time": "2024-10-10T16:25:05.800Z"
   },
   {
    "duration": 10,
    "start_time": "2024-10-10T16:25:10.822Z"
   },
   {
    "duration": 2,
    "start_time": "2024-10-10T16:25:15.581Z"
   },
   {
    "duration": 55,
    "start_time": "2024-10-10T16:25:16.525Z"
   },
   {
    "duration": 12,
    "start_time": "2024-10-10T16:25:16.997Z"
   },
   {
    "duration": 2,
    "start_time": "2024-10-10T16:25:19.648Z"
   },
   {
    "duration": 18,
    "start_time": "2024-10-10T16:25:20.318Z"
   },
   {
    "duration": 29,
    "start_time": "2024-10-10T16:25:22.074Z"
   },
   {
    "duration": 28,
    "start_time": "2024-10-10T16:25:23.279Z"
   },
   {
    "duration": 15,
    "start_time": "2024-10-10T16:25:24.620Z"
   },
   {
    "duration": 17,
    "start_time": "2024-10-10T16:25:26.274Z"
   },
   {
    "duration": 6,
    "start_time": "2024-10-10T16:25:28.850Z"
   },
   {
    "duration": 29,
    "start_time": "2024-10-10T16:25:31.313Z"
   },
   {
    "duration": 852,
    "start_time": "2024-10-10T16:25:52.244Z"
   },
   {
    "duration": 64,
    "start_time": "2024-10-10T16:25:53.098Z"
   },
   {
    "duration": 13,
    "start_time": "2024-10-10T16:25:53.164Z"
   },
   {
    "duration": 3,
    "start_time": "2024-10-10T16:25:53.180Z"
   },
   {
    "duration": 36,
    "start_time": "2024-10-10T16:25:53.185Z"
   },
   {
    "duration": 28,
    "start_time": "2024-10-10T16:25:53.223Z"
   },
   {
    "duration": 29,
    "start_time": "2024-10-10T16:25:53.254Z"
   },
   {
    "duration": 33,
    "start_time": "2024-10-10T16:25:53.285Z"
   },
   {
    "duration": 18,
    "start_time": "2024-10-10T16:25:53.319Z"
   },
   {
    "duration": 5,
    "start_time": "2024-10-10T16:25:53.340Z"
   },
   {
    "duration": 172,
    "start_time": "2024-10-10T16:25:53.347Z"
   },
   {
    "duration": 0,
    "start_time": "2024-10-10T16:25:53.521Z"
   },
   {
    "duration": 0,
    "start_time": "2024-10-10T16:25:53.521Z"
   },
   {
    "duration": 0,
    "start_time": "2024-10-10T16:25:53.522Z"
   },
   {
    "duration": 0,
    "start_time": "2024-10-10T16:25:53.524Z"
   },
   {
    "duration": 0,
    "start_time": "2024-10-10T16:25:53.525Z"
   },
   {
    "duration": 1,
    "start_time": "2024-10-10T16:25:53.525Z"
   },
   {
    "duration": 0,
    "start_time": "2024-10-10T16:25:53.526Z"
   },
   {
    "duration": 0,
    "start_time": "2024-10-10T16:25:53.527Z"
   },
   {
    "duration": 0,
    "start_time": "2024-10-10T16:25:53.529Z"
   },
   {
    "duration": 0,
    "start_time": "2024-10-10T16:25:53.530Z"
   },
   {
    "duration": 0,
    "start_time": "2024-10-10T16:25:53.531Z"
   },
   {
    "duration": 0,
    "start_time": "2024-10-10T16:25:53.532Z"
   },
   {
    "duration": 0,
    "start_time": "2024-10-10T16:25:53.533Z"
   },
   {
    "duration": 0,
    "start_time": "2024-10-10T16:25:53.534Z"
   },
   {
    "duration": 6,
    "start_time": "2024-10-10T16:26:04.236Z"
   },
   {
    "duration": 28,
    "start_time": "2024-10-10T16:26:32.564Z"
   },
   {
    "duration": 15,
    "start_time": "2024-10-10T16:26:53.381Z"
   },
   {
    "duration": 14,
    "start_time": "2024-10-10T16:27:22.362Z"
   },
   {
    "duration": 168,
    "start_time": "2024-10-10T16:28:18.469Z"
   },
   {
    "duration": 38,
    "start_time": "2024-10-10T16:28:24.386Z"
   },
   {
    "duration": 576,
    "start_time": "2024-10-10T16:28:28.276Z"
   },
   {
    "duration": 20,
    "start_time": "2024-10-10T16:29:08.204Z"
   },
   {
    "duration": 10,
    "start_time": "2024-10-10T16:29:51.430Z"
   },
   {
    "duration": 18,
    "start_time": "2024-10-10T16:29:52.456Z"
   },
   {
    "duration": 32,
    "start_time": "2024-10-10T16:30:57.254Z"
   },
   {
    "duration": 853,
    "start_time": "2024-10-11T17:15:43.216Z"
   },
   {
    "duration": 62,
    "start_time": "2024-10-11T17:15:44.071Z"
   },
   {
    "duration": 19,
    "start_time": "2024-10-11T17:15:44.135Z"
   },
   {
    "duration": 3,
    "start_time": "2024-10-11T17:15:44.157Z"
   },
   {
    "duration": 34,
    "start_time": "2024-10-11T17:15:44.162Z"
   },
   {
    "duration": 26,
    "start_time": "2024-10-11T17:15:44.197Z"
   },
   {
    "duration": 28,
    "start_time": "2024-10-11T17:15:44.225Z"
   },
   {
    "duration": 32,
    "start_time": "2024-10-11T17:15:44.255Z"
   },
   {
    "duration": 16,
    "start_time": "2024-10-11T17:15:44.289Z"
   },
   {
    "duration": 5,
    "start_time": "2024-10-11T17:15:44.308Z"
   },
   {
    "duration": 14,
    "start_time": "2024-10-11T17:15:44.314Z"
   },
   {
    "duration": 9,
    "start_time": "2024-10-11T17:15:44.330Z"
   },
   {
    "duration": 58,
    "start_time": "2024-10-11T17:15:44.340Z"
   },
   {
    "duration": 772,
    "start_time": "2024-10-11T17:15:44.400Z"
   },
   {
    "duration": 0,
    "start_time": "2024-10-11T17:15:45.174Z"
   },
   {
    "duration": 0,
    "start_time": "2024-10-11T17:15:45.175Z"
   },
   {
    "duration": 0,
    "start_time": "2024-10-11T17:15:45.176Z"
   },
   {
    "duration": 0,
    "start_time": "2024-10-11T17:15:45.177Z"
   },
   {
    "duration": 0,
    "start_time": "2024-10-11T17:15:45.186Z"
   },
   {
    "duration": 0,
    "start_time": "2024-10-11T17:15:45.187Z"
   },
   {
    "duration": 0,
    "start_time": "2024-10-11T17:15:45.188Z"
   },
   {
    "duration": 0,
    "start_time": "2024-10-11T17:15:45.189Z"
   },
   {
    "duration": 0,
    "start_time": "2024-10-11T17:15:45.191Z"
   },
   {
    "duration": 0,
    "start_time": "2024-10-11T17:15:45.193Z"
   },
   {
    "duration": 0,
    "start_time": "2024-10-11T17:15:45.195Z"
   },
   {
    "duration": 0,
    "start_time": "2024-10-11T17:15:45.196Z"
   },
   {
    "duration": 995,
    "start_time": "2024-10-11T17:20:19.721Z"
   },
   {
    "duration": 573,
    "start_time": "2024-10-11T17:21:25.392Z"
   },
   {
    "duration": 15,
    "start_time": "2024-10-11T17:21:32.031Z"
   },
   {
    "duration": 721,
    "start_time": "2024-10-11T17:21:33.833Z"
   },
   {
    "duration": 32,
    "start_time": "2024-10-11T17:21:37.837Z"
   },
   {
    "duration": 19,
    "start_time": "2024-10-11T17:21:40.917Z"
   },
   {
    "duration": 3,
    "start_time": "2024-10-11T17:21:41.593Z"
   },
   {
    "duration": 11,
    "start_time": "2024-10-11T17:21:43.925Z"
   },
   {
    "duration": 54,
    "start_time": "2024-10-11T17:21:44.613Z"
   },
   {
    "duration": 2,
    "start_time": "2024-10-11T17:21:45.778Z"
   },
   {
    "duration": 557,
    "start_time": "2024-10-11T17:21:49.179Z"
   },
   {
    "duration": 781,
    "start_time": "2024-10-11T17:22:08.948Z"
   },
   {
    "duration": 61,
    "start_time": "2024-10-11T17:22:09.732Z"
   },
   {
    "duration": 14,
    "start_time": "2024-10-11T17:22:09.794Z"
   },
   {
    "duration": 3,
    "start_time": "2024-10-11T17:22:09.810Z"
   },
   {
    "duration": 17,
    "start_time": "2024-10-11T17:22:09.815Z"
   },
   {
    "duration": 25,
    "start_time": "2024-10-11T17:22:09.834Z"
   },
   {
    "duration": 52,
    "start_time": "2024-10-11T17:22:09.860Z"
   },
   {
    "duration": 15,
    "start_time": "2024-10-11T17:22:09.914Z"
   },
   {
    "duration": 1510,
    "start_time": "2024-10-11T17:22:09.930Z"
   },
   {
    "duration": 0,
    "start_time": "2024-10-11T17:22:11.443Z"
   },
   {
    "duration": 0,
    "start_time": "2024-10-11T17:22:11.444Z"
   },
   {
    "duration": 0,
    "start_time": "2024-10-11T17:22:11.446Z"
   },
   {
    "duration": 0,
    "start_time": "2024-10-11T17:22:11.447Z"
   },
   {
    "duration": 0,
    "start_time": "2024-10-11T17:22:11.449Z"
   },
   {
    "duration": 0,
    "start_time": "2024-10-11T17:22:11.450Z"
   },
   {
    "duration": 0,
    "start_time": "2024-10-11T17:22:11.451Z"
   },
   {
    "duration": 0,
    "start_time": "2024-10-11T17:22:11.453Z"
   },
   {
    "duration": 0,
    "start_time": "2024-10-11T17:22:11.454Z"
   },
   {
    "duration": 0,
    "start_time": "2024-10-11T17:22:11.456Z"
   },
   {
    "duration": 0,
    "start_time": "2024-10-11T17:22:11.458Z"
   },
   {
    "duration": 0,
    "start_time": "2024-10-11T17:22:11.459Z"
   },
   {
    "duration": 0,
    "start_time": "2024-10-11T17:22:11.460Z"
   },
   {
    "duration": 0,
    "start_time": "2024-10-11T17:22:11.461Z"
   },
   {
    "duration": 0,
    "start_time": "2024-10-11T17:22:11.486Z"
   },
   {
    "duration": 0,
    "start_time": "2024-10-11T17:22:11.488Z"
   },
   {
    "duration": 0,
    "start_time": "2024-10-11T17:22:11.489Z"
   },
   {
    "duration": 0,
    "start_time": "2024-10-11T17:22:11.490Z"
   },
   {
    "duration": 54,
    "start_time": "2024-10-11T17:22:37.304Z"
   },
   {
    "duration": 12,
    "start_time": "2024-10-11T17:22:38.419Z"
   },
   {
    "duration": 3,
    "start_time": "2024-10-11T17:22:40.938Z"
   },
   {
    "duration": 21,
    "start_time": "2024-10-11T17:22:43.172Z"
   },
   {
    "duration": 27,
    "start_time": "2024-10-11T17:22:45.271Z"
   },
   {
    "duration": 29,
    "start_time": "2024-10-11T17:22:46.970Z"
   },
   {
    "duration": 15,
    "start_time": "2024-10-11T17:22:49.702Z"
   },
   {
    "duration": 561,
    "start_time": "2024-10-11T17:22:51.739Z"
   },
   {
    "duration": 559,
    "start_time": "2024-10-11T17:23:10.078Z"
   },
   {
    "duration": 31,
    "start_time": "2024-10-11T17:23:13.021Z"
   },
   {
    "duration": 669,
    "start_time": "2024-10-11T17:23:24.801Z"
   },
   {
    "duration": 3,
    "start_time": "2024-10-11T17:23:31.705Z"
   },
   {
    "duration": 53,
    "start_time": "2024-10-11T17:23:32.478Z"
   },
   {
    "duration": 12,
    "start_time": "2024-10-11T17:23:33.335Z"
   },
   {
    "duration": 3,
    "start_time": "2024-10-11T17:23:34.615Z"
   },
   {
    "duration": 21,
    "start_time": "2024-10-11T17:23:35.561Z"
   },
   {
    "duration": 26,
    "start_time": "2024-10-11T17:23:36.361Z"
   },
   {
    "duration": 569,
    "start_time": "2024-10-11T17:23:37.700Z"
   },
   {
    "duration": 3,
    "start_time": "2024-10-11T17:25:30.698Z"
   },
   {
    "duration": 55,
    "start_time": "2024-10-11T17:25:32.440Z"
   },
   {
    "duration": 14,
    "start_time": "2024-10-11T17:25:33.208Z"
   },
   {
    "duration": 3,
    "start_time": "2024-10-11T17:25:34.992Z"
   },
   {
    "duration": 17,
    "start_time": "2024-10-11T17:25:36.016Z"
   },
   {
    "duration": 25,
    "start_time": "2024-10-11T17:25:39.360Z"
   },
   {
    "duration": 579,
    "start_time": "2024-10-11T17:25:41.582Z"
   },
   {
    "duration": 3,
    "start_time": "2024-10-11T17:25:57.557Z"
   },
   {
    "duration": 55,
    "start_time": "2024-10-11T17:25:58.372Z"
   },
   {
    "duration": 12,
    "start_time": "2024-10-11T17:25:59.045Z"
   },
   {
    "duration": 3,
    "start_time": "2024-10-11T17:26:00.654Z"
   },
   {
    "duration": 18,
    "start_time": "2024-10-11T17:26:02.285Z"
   },
   {
    "duration": 26,
    "start_time": "2024-10-11T17:26:03.528Z"
   },
   {
    "duration": 678,
    "start_time": "2024-10-11T17:26:05.157Z"
   },
   {
    "duration": 577,
    "start_time": "2024-10-11T17:28:53.349Z"
   },
   {
    "duration": 3,
    "start_time": "2024-10-11T17:29:07.952Z"
   },
   {
    "duration": 52,
    "start_time": "2024-10-11T17:29:09.221Z"
   },
   {
    "duration": 11,
    "start_time": "2024-10-11T17:29:09.960Z"
   },
   {
    "duration": 2,
    "start_time": "2024-10-11T17:29:12.631Z"
   },
   {
    "duration": 19,
    "start_time": "2024-10-11T17:29:14.210Z"
   },
   {
    "duration": 25,
    "start_time": "2024-10-11T17:29:15.815Z"
   },
   {
    "duration": 556,
    "start_time": "2024-10-11T17:29:25.704Z"
   },
   {
    "duration": 4,
    "start_time": "2024-10-11T17:29:50.672Z"
   },
   {
    "duration": 54,
    "start_time": "2024-10-11T17:29:51.587Z"
   },
   {
    "duration": 11,
    "start_time": "2024-10-11T17:29:52.310Z"
   },
   {
    "duration": 3,
    "start_time": "2024-10-11T17:29:53.938Z"
   },
   {
    "duration": 17,
    "start_time": "2024-10-11T17:29:54.677Z"
   },
   {
    "duration": 777,
    "start_time": "2024-10-11T17:30:09.097Z"
   },
   {
    "duration": 60,
    "start_time": "2024-10-11T17:30:09.876Z"
   },
   {
    "duration": 13,
    "start_time": "2024-10-11T17:30:09.938Z"
   },
   {
    "duration": 3,
    "start_time": "2024-10-11T17:30:09.953Z"
   },
   {
    "duration": 33,
    "start_time": "2024-10-11T17:30:09.958Z"
   },
   {
    "duration": 25,
    "start_time": "2024-10-11T17:30:09.993Z"
   },
   {
    "duration": 1511,
    "start_time": "2024-10-11T17:30:10.019Z"
   },
   {
    "duration": 0,
    "start_time": "2024-10-11T17:30:11.532Z"
   },
   {
    "duration": 0,
    "start_time": "2024-10-11T17:30:11.534Z"
   },
   {
    "duration": 0,
    "start_time": "2024-10-11T17:30:11.535Z"
   },
   {
    "duration": 0,
    "start_time": "2024-10-11T17:30:11.536Z"
   },
   {
    "duration": 0,
    "start_time": "2024-10-11T17:30:11.537Z"
   },
   {
    "duration": 0,
    "start_time": "2024-10-11T17:30:11.538Z"
   },
   {
    "duration": 0,
    "start_time": "2024-10-11T17:30:11.539Z"
   },
   {
    "duration": 0,
    "start_time": "2024-10-11T17:30:11.540Z"
   },
   {
    "duration": 0,
    "start_time": "2024-10-11T17:30:11.543Z"
   },
   {
    "duration": 0,
    "start_time": "2024-10-11T17:30:11.544Z"
   },
   {
    "duration": 0,
    "start_time": "2024-10-11T17:30:11.545Z"
   },
   {
    "duration": 0,
    "start_time": "2024-10-11T17:30:11.546Z"
   },
   {
    "duration": 0,
    "start_time": "2024-10-11T17:30:11.547Z"
   },
   {
    "duration": 0,
    "start_time": "2024-10-11T17:30:11.548Z"
   },
   {
    "duration": 0,
    "start_time": "2024-10-11T17:30:11.550Z"
   },
   {
    "duration": 0,
    "start_time": "2024-10-11T17:30:11.551Z"
   },
   {
    "duration": 0,
    "start_time": "2024-10-11T17:30:11.586Z"
   },
   {
    "duration": 0,
    "start_time": "2024-10-11T17:30:11.587Z"
   },
   {
    "duration": 0,
    "start_time": "2024-10-11T17:30:11.588Z"
   },
   {
    "duration": 0,
    "start_time": "2024-10-11T17:30:11.589Z"
   },
   {
    "duration": 782,
    "start_time": "2024-10-11T17:30:56.985Z"
   },
   {
    "duration": 59,
    "start_time": "2024-10-11T17:30:57.769Z"
   },
   {
    "duration": 1535,
    "start_time": "2024-10-11T17:30:57.829Z"
   },
   {
    "duration": 0,
    "start_time": "2024-10-11T17:30:59.367Z"
   },
   {
    "duration": 0,
    "start_time": "2024-10-11T17:30:59.368Z"
   },
   {
    "duration": 0,
    "start_time": "2024-10-11T17:30:59.369Z"
   },
   {
    "duration": 0,
    "start_time": "2024-10-11T17:30:59.370Z"
   },
   {
    "duration": 0,
    "start_time": "2024-10-11T17:30:59.371Z"
   },
   {
    "duration": 0,
    "start_time": "2024-10-11T17:30:59.372Z"
   },
   {
    "duration": 0,
    "start_time": "2024-10-11T17:30:59.373Z"
   },
   {
    "duration": 0,
    "start_time": "2024-10-11T17:30:59.387Z"
   },
   {
    "duration": 0,
    "start_time": "2024-10-11T17:30:59.388Z"
   },
   {
    "duration": 0,
    "start_time": "2024-10-11T17:30:59.389Z"
   },
   {
    "duration": 0,
    "start_time": "2024-10-11T17:30:59.390Z"
   },
   {
    "duration": 0,
    "start_time": "2024-10-11T17:30:59.391Z"
   },
   {
    "duration": 0,
    "start_time": "2024-10-11T17:30:59.392Z"
   },
   {
    "duration": 0,
    "start_time": "2024-10-11T17:30:59.393Z"
   },
   {
    "duration": 0,
    "start_time": "2024-10-11T17:30:59.394Z"
   },
   {
    "duration": 0,
    "start_time": "2024-10-11T17:30:59.395Z"
   },
   {
    "duration": 0,
    "start_time": "2024-10-11T17:30:59.396Z"
   },
   {
    "duration": 0,
    "start_time": "2024-10-11T17:30:59.397Z"
   },
   {
    "duration": 0,
    "start_time": "2024-10-11T17:30:59.398Z"
   },
   {
    "duration": 0,
    "start_time": "2024-10-11T17:30:59.399Z"
   },
   {
    "duration": 0,
    "start_time": "2024-10-11T17:30:59.400Z"
   },
   {
    "duration": 0,
    "start_time": "2024-10-11T17:30:59.401Z"
   },
   {
    "duration": 0,
    "start_time": "2024-10-11T17:30:59.402Z"
   },
   {
    "duration": 0,
    "start_time": "2024-10-11T17:30:59.403Z"
   },
   {
    "duration": 587,
    "start_time": "2024-10-11T17:31:29.086Z"
   },
   {
    "duration": 53,
    "start_time": "2024-10-11T17:31:38.545Z"
   },
   {
    "duration": 576,
    "start_time": "2024-10-11T17:31:39.640Z"
   },
   {
    "duration": 0,
    "start_time": "2024-10-11T17:31:42.138Z"
   },
   {
    "duration": 561,
    "start_time": "2024-10-11T17:31:49.617Z"
   },
   {
    "duration": 817,
    "start_time": "2024-10-11T17:35:59.307Z"
   },
   {
    "duration": 61,
    "start_time": "2024-10-11T17:36:00.126Z"
   },
   {
    "duration": 14,
    "start_time": "2024-10-11T17:36:00.188Z"
   },
   {
    "duration": 3,
    "start_time": "2024-10-11T17:36:00.204Z"
   },
   {
    "duration": 17,
    "start_time": "2024-10-11T17:36:00.210Z"
   },
   {
    "duration": 26,
    "start_time": "2024-10-11T17:36:00.228Z"
   },
   {
    "duration": 53,
    "start_time": "2024-10-11T17:36:00.256Z"
   },
   {
    "duration": 14,
    "start_time": "2024-10-11T17:36:00.311Z"
   },
   {
    "duration": 6,
    "start_time": "2024-10-11T17:36:00.326Z"
   },
   {
    "duration": 1537,
    "start_time": "2024-10-11T17:36:00.333Z"
   },
   {
    "duration": 0,
    "start_time": "2024-10-11T17:36:01.873Z"
   },
   {
    "duration": 0,
    "start_time": "2024-10-11T17:36:01.874Z"
   },
   {
    "duration": 0,
    "start_time": "2024-10-11T17:36:01.876Z"
   },
   {
    "duration": 0,
    "start_time": "2024-10-11T17:36:01.886Z"
   },
   {
    "duration": 0,
    "start_time": "2024-10-11T17:36:01.887Z"
   },
   {
    "duration": 0,
    "start_time": "2024-10-11T17:36:01.888Z"
   },
   {
    "duration": 0,
    "start_time": "2024-10-11T17:36:01.889Z"
   },
   {
    "duration": 0,
    "start_time": "2024-10-11T17:36:01.891Z"
   },
   {
    "duration": 0,
    "start_time": "2024-10-11T17:36:01.891Z"
   },
   {
    "duration": 0,
    "start_time": "2024-10-11T17:36:01.892Z"
   },
   {
    "duration": 0,
    "start_time": "2024-10-11T17:36:01.893Z"
   },
   {
    "duration": 0,
    "start_time": "2024-10-11T17:36:01.894Z"
   },
   {
    "duration": 0,
    "start_time": "2024-10-11T17:36:01.896Z"
   },
   {
    "duration": 1,
    "start_time": "2024-10-11T17:36:01.896Z"
   },
   {
    "duration": 0,
    "start_time": "2024-10-11T17:36:01.897Z"
   },
   {
    "duration": 0,
    "start_time": "2024-10-11T17:36:01.898Z"
   },
   {
    "duration": 782,
    "start_time": "2024-10-11T17:36:27.738Z"
   },
   {
    "duration": 56,
    "start_time": "2024-10-11T17:36:28.522Z"
   },
   {
    "duration": 1528,
    "start_time": "2024-10-11T17:36:28.579Z"
   },
   {
    "duration": 0,
    "start_time": "2024-10-11T17:36:30.110Z"
   },
   {
    "duration": 0,
    "start_time": "2024-10-11T17:36:30.112Z"
   },
   {
    "duration": 0,
    "start_time": "2024-10-11T17:36:30.113Z"
   },
   {
    "duration": 0,
    "start_time": "2024-10-11T17:36:30.115Z"
   },
   {
    "duration": 0,
    "start_time": "2024-10-11T17:36:30.116Z"
   },
   {
    "duration": 0,
    "start_time": "2024-10-11T17:36:30.117Z"
   },
   {
    "duration": 0,
    "start_time": "2024-10-11T17:36:30.118Z"
   },
   {
    "duration": 0,
    "start_time": "2024-10-11T17:36:30.119Z"
   },
   {
    "duration": 0,
    "start_time": "2024-10-11T17:36:30.121Z"
   },
   {
    "duration": 0,
    "start_time": "2024-10-11T17:36:30.121Z"
   },
   {
    "duration": 0,
    "start_time": "2024-10-11T17:36:30.122Z"
   },
   {
    "duration": 0,
    "start_time": "2024-10-11T17:36:30.124Z"
   },
   {
    "duration": 0,
    "start_time": "2024-10-11T17:36:30.125Z"
   },
   {
    "duration": 0,
    "start_time": "2024-10-11T17:36:30.126Z"
   },
   {
    "duration": 0,
    "start_time": "2024-10-11T17:36:30.127Z"
   },
   {
    "duration": 0,
    "start_time": "2024-10-11T17:36:30.128Z"
   },
   {
    "duration": 0,
    "start_time": "2024-10-11T17:36:30.129Z"
   },
   {
    "duration": 0,
    "start_time": "2024-10-11T17:36:30.130Z"
   },
   {
    "duration": 0,
    "start_time": "2024-10-11T17:36:30.131Z"
   },
   {
    "duration": 0,
    "start_time": "2024-10-11T17:36:30.132Z"
   },
   {
    "duration": 0,
    "start_time": "2024-10-11T17:36:30.133Z"
   },
   {
    "duration": 1,
    "start_time": "2024-10-11T17:36:30.134Z"
   },
   {
    "duration": 0,
    "start_time": "2024-10-11T17:36:30.136Z"
   },
   {
    "duration": 3,
    "start_time": "2024-10-11T17:36:45.028Z"
   },
   {
    "duration": 52,
    "start_time": "2024-10-11T17:36:46.705Z"
   },
   {
    "duration": 558,
    "start_time": "2024-10-11T17:36:47.255Z"
   },
   {
    "duration": 13,
    "start_time": "2024-10-11T17:37:06.098Z"
   },
   {
    "duration": 787,
    "start_time": "2024-10-11T17:37:23.648Z"
   },
   {
    "duration": 60,
    "start_time": "2024-10-11T17:37:24.438Z"
   },
   {
    "duration": 13,
    "start_time": "2024-10-11T17:37:24.500Z"
   },
   {
    "duration": 3,
    "start_time": "2024-10-11T17:37:24.514Z"
   },
   {
    "duration": 17,
    "start_time": "2024-10-11T17:37:24.521Z"
   },
   {
    "duration": 48,
    "start_time": "2024-10-11T17:37:24.539Z"
   },
   {
    "duration": 27,
    "start_time": "2024-10-11T17:37:24.589Z"
   },
   {
    "duration": 14,
    "start_time": "2024-10-11T17:37:24.618Z"
   },
   {
    "duration": 6,
    "start_time": "2024-10-11T17:37:24.633Z"
   },
   {
    "duration": 20,
    "start_time": "2024-10-11T17:37:24.640Z"
   },
   {
    "duration": 259,
    "start_time": "2024-10-11T17:37:24.686Z"
   },
   {
    "duration": 0,
    "start_time": "2024-10-11T17:37:24.948Z"
   },
   {
    "duration": 0,
    "start_time": "2024-10-11T17:37:24.949Z"
   },
   {
    "duration": 0,
    "start_time": "2024-10-11T17:37:24.950Z"
   },
   {
    "duration": 0,
    "start_time": "2024-10-11T17:37:24.951Z"
   },
   {
    "duration": 0,
    "start_time": "2024-10-11T17:37:24.952Z"
   },
   {
    "duration": 0,
    "start_time": "2024-10-11T17:37:24.954Z"
   },
   {
    "duration": 0,
    "start_time": "2024-10-11T17:37:24.954Z"
   },
   {
    "duration": 0,
    "start_time": "2024-10-11T17:37:24.955Z"
   },
   {
    "duration": 0,
    "start_time": "2024-10-11T17:37:24.957Z"
   },
   {
    "duration": 0,
    "start_time": "2024-10-11T17:37:24.958Z"
   },
   {
    "duration": 0,
    "start_time": "2024-10-11T17:37:24.960Z"
   },
   {
    "duration": 0,
    "start_time": "2024-10-11T17:37:24.961Z"
   },
   {
    "duration": 0,
    "start_time": "2024-10-11T17:37:24.987Z"
   },
   {
    "duration": 0,
    "start_time": "2024-10-11T17:37:24.988Z"
   },
   {
    "duration": 755,
    "start_time": "2024-10-11T17:38:38.647Z"
   },
   {
    "duration": 55,
    "start_time": "2024-10-11T17:38:39.404Z"
   },
   {
    "duration": 13,
    "start_time": "2024-10-11T17:38:39.461Z"
   },
   {
    "duration": 12,
    "start_time": "2024-10-11T17:38:39.476Z"
   },
   {
    "duration": 19,
    "start_time": "2024-10-11T17:38:39.489Z"
   },
   {
    "duration": 25,
    "start_time": "2024-10-11T17:38:39.510Z"
   },
   {
    "duration": 51,
    "start_time": "2024-10-11T17:38:39.536Z"
   },
   {
    "duration": 15,
    "start_time": "2024-10-11T17:38:39.588Z"
   },
   {
    "duration": 5,
    "start_time": "2024-10-11T17:38:39.604Z"
   },
   {
    "duration": 776,
    "start_time": "2024-10-11T17:38:39.612Z"
   },
   {
    "duration": 0,
    "start_time": "2024-10-11T17:38:40.390Z"
   },
   {
    "duration": 0,
    "start_time": "2024-10-11T17:38:40.391Z"
   },
   {
    "duration": 0,
    "start_time": "2024-10-11T17:38:40.393Z"
   },
   {
    "duration": 0,
    "start_time": "2024-10-11T17:38:40.394Z"
   },
   {
    "duration": 0,
    "start_time": "2024-10-11T17:38:40.396Z"
   },
   {
    "duration": 0,
    "start_time": "2024-10-11T17:38:40.397Z"
   },
   {
    "duration": 0,
    "start_time": "2024-10-11T17:38:40.399Z"
   },
   {
    "duration": 0,
    "start_time": "2024-10-11T17:38:40.400Z"
   },
   {
    "duration": 0,
    "start_time": "2024-10-11T17:38:40.401Z"
   },
   {
    "duration": 0,
    "start_time": "2024-10-11T17:38:40.403Z"
   },
   {
    "duration": 0,
    "start_time": "2024-10-11T17:38:40.404Z"
   },
   {
    "duration": 0,
    "start_time": "2024-10-11T17:38:40.406Z"
   },
   {
    "duration": 778,
    "start_time": "2024-10-11T17:39:19.170Z"
   },
   {
    "duration": 60,
    "start_time": "2024-10-11T17:39:19.950Z"
   },
   {
    "duration": 13,
    "start_time": "2024-10-11T17:39:20.012Z"
   },
   {
    "duration": 2,
    "start_time": "2024-10-11T17:39:20.028Z"
   },
   {
    "duration": 18,
    "start_time": "2024-10-11T17:39:20.032Z"
   },
   {
    "duration": 50,
    "start_time": "2024-10-11T17:39:20.052Z"
   },
   {
    "duration": 27,
    "start_time": "2024-10-11T17:39:20.104Z"
   },
   {
    "duration": 14,
    "start_time": "2024-10-11T17:39:20.133Z"
   },
   {
    "duration": 6,
    "start_time": "2024-10-11T17:39:20.148Z"
   },
   {
    "duration": 809,
    "start_time": "2024-10-11T17:39:20.157Z"
   },
   {
    "duration": 0,
    "start_time": "2024-10-11T17:39:20.968Z"
   },
   {
    "duration": 0,
    "start_time": "2024-10-11T17:39:20.969Z"
   },
   {
    "duration": 0,
    "start_time": "2024-10-11T17:39:20.971Z"
   },
   {
    "duration": 0,
    "start_time": "2024-10-11T17:39:20.972Z"
   },
   {
    "duration": 0,
    "start_time": "2024-10-11T17:39:20.974Z"
   },
   {
    "duration": 0,
    "start_time": "2024-10-11T17:39:20.986Z"
   },
   {
    "duration": 0,
    "start_time": "2024-10-11T17:39:20.988Z"
   },
   {
    "duration": 0,
    "start_time": "2024-10-11T17:39:20.989Z"
   },
   {
    "duration": 0,
    "start_time": "2024-10-11T17:39:20.991Z"
   },
   {
    "duration": 0,
    "start_time": "2024-10-11T17:39:20.992Z"
   },
   {
    "duration": 0,
    "start_time": "2024-10-11T17:39:20.994Z"
   },
   {
    "duration": 0,
    "start_time": "2024-10-11T17:39:20.994Z"
   },
   {
    "duration": 783,
    "start_time": "2024-10-11T17:39:45.590Z"
   },
   {
    "duration": 57,
    "start_time": "2024-10-11T17:39:46.376Z"
   },
   {
    "duration": 14,
    "start_time": "2024-10-11T17:39:46.434Z"
   },
   {
    "duration": 3,
    "start_time": "2024-10-11T17:39:46.449Z"
   },
   {
    "duration": 38,
    "start_time": "2024-10-11T17:39:46.455Z"
   },
   {
    "duration": 32,
    "start_time": "2024-10-11T17:39:46.496Z"
   },
   {
    "duration": 29,
    "start_time": "2024-10-11T17:39:46.530Z"
   },
   {
    "duration": 31,
    "start_time": "2024-10-11T17:39:46.561Z"
   },
   {
    "duration": 5,
    "start_time": "2024-10-11T17:39:46.593Z"
   },
   {
    "duration": 3,
    "start_time": "2024-10-11T17:39:46.599Z"
   },
   {
    "duration": 2,
    "start_time": "2024-10-11T17:39:46.605Z"
   },
   {
    "duration": 4,
    "start_time": "2024-10-11T17:39:46.609Z"
   },
   {
    "duration": 5,
    "start_time": "2024-10-11T17:39:46.615Z"
   },
   {
    "duration": 5,
    "start_time": "2024-10-11T17:39:46.623Z"
   },
   {
    "duration": 5,
    "start_time": "2024-10-11T17:39:46.630Z"
   },
   {
    "duration": 4,
    "start_time": "2024-10-11T17:39:46.636Z"
   },
   {
    "duration": 50,
    "start_time": "2024-10-11T17:39:46.642Z"
   },
   {
    "duration": 22,
    "start_time": "2024-10-11T17:39:46.693Z"
   },
   {
    "duration": 14,
    "start_time": "2024-10-11T17:39:46.717Z"
   },
   {
    "duration": 106,
    "start_time": "2024-10-11T17:39:46.732Z"
   },
   {
    "duration": 138,
    "start_time": "2024-10-11T17:39:46.840Z"
   },
   {
    "duration": 21,
    "start_time": "2024-10-11T17:39:46.980Z"
   },
   {
    "duration": 1022,
    "start_time": "2024-10-11T17:40:33.764Z"
   },
   {
    "duration": 222,
    "start_time": "2024-10-11T17:41:08.253Z"
   },
   {
    "duration": 223,
    "start_time": "2024-10-11T17:41:57.484Z"
   },
   {
    "duration": 216,
    "start_time": "2024-10-11T17:42:23.846Z"
   },
   {
    "duration": 3,
    "start_time": "2024-10-11T17:43:25.186Z"
   },
   {
    "duration": 60,
    "start_time": "2024-10-11T17:43:26.032Z"
   },
   {
    "duration": 11,
    "start_time": "2024-10-11T17:43:26.549Z"
   },
   {
    "duration": 3,
    "start_time": "2024-10-11T17:43:28.416Z"
   },
   {
    "duration": 18,
    "start_time": "2024-10-11T17:43:29.273Z"
   },
   {
    "duration": 1465,
    "start_time": "2024-10-11T17:44:29.148Z"
   },
   {
    "duration": 2648,
    "start_time": "2024-10-12T06:25:43.398Z"
   },
   {
    "duration": 79,
    "start_time": "2024-10-12T06:25:46.049Z"
   },
   {
    "duration": 1528,
    "start_time": "2024-10-12T06:25:46.130Z"
   },
   {
    "duration": 0,
    "start_time": "2024-10-12T06:25:47.661Z"
   },
   {
    "duration": 0,
    "start_time": "2024-10-12T06:25:47.670Z"
   },
   {
    "duration": 0,
    "start_time": "2024-10-12T06:25:47.672Z"
   },
   {
    "duration": 0,
    "start_time": "2024-10-12T06:25:47.674Z"
   },
   {
    "duration": 0,
    "start_time": "2024-10-12T06:25:47.676Z"
   },
   {
    "duration": 0,
    "start_time": "2024-10-12T06:25:47.677Z"
   },
   {
    "duration": 0,
    "start_time": "2024-10-12T06:25:47.678Z"
   },
   {
    "duration": 0,
    "start_time": "2024-10-12T06:25:47.679Z"
   },
   {
    "duration": 0,
    "start_time": "2024-10-12T06:25:47.680Z"
   },
   {
    "duration": 0,
    "start_time": "2024-10-12T06:25:47.681Z"
   },
   {
    "duration": 0,
    "start_time": "2024-10-12T06:25:47.682Z"
   },
   {
    "duration": 0,
    "start_time": "2024-10-12T06:25:47.683Z"
   },
   {
    "duration": 0,
    "start_time": "2024-10-12T06:25:47.684Z"
   },
   {
    "duration": 0,
    "start_time": "2024-10-12T06:25:47.685Z"
   },
   {
    "duration": 0,
    "start_time": "2024-10-12T06:25:47.686Z"
   },
   {
    "duration": 0,
    "start_time": "2024-10-12T06:25:47.687Z"
   },
   {
    "duration": 0,
    "start_time": "2024-10-12T06:25:47.688Z"
   },
   {
    "duration": 0,
    "start_time": "2024-10-12T06:25:47.689Z"
   },
   {
    "duration": 0,
    "start_time": "2024-10-12T06:25:47.690Z"
   },
   {
    "duration": 0,
    "start_time": "2024-10-12T06:25:47.692Z"
   },
   {
    "duration": 0,
    "start_time": "2024-10-12T06:25:47.694Z"
   },
   {
    "duration": 0,
    "start_time": "2024-10-12T06:25:47.695Z"
   },
   {
    "duration": 0,
    "start_time": "2024-10-12T06:25:47.697Z"
   },
   {
    "duration": 0,
    "start_time": "2024-10-12T06:25:47.698Z"
   },
   {
    "duration": 854,
    "start_time": "2024-10-12T06:41:20.278Z"
   },
   {
    "duration": 58,
    "start_time": "2024-10-12T06:41:21.134Z"
   },
   {
    "duration": 13,
    "start_time": "2024-10-12T06:41:21.194Z"
   },
   {
    "duration": 3,
    "start_time": "2024-10-12T06:41:21.209Z"
   },
   {
    "duration": 21,
    "start_time": "2024-10-12T06:41:21.231Z"
   },
   {
    "duration": 29,
    "start_time": "2024-10-12T06:41:21.253Z"
   },
   {
    "duration": 48,
    "start_time": "2024-10-12T06:41:21.284Z"
   },
   {
    "duration": 15,
    "start_time": "2024-10-12T06:41:21.334Z"
   },
   {
    "duration": 5,
    "start_time": "2024-10-12T06:41:21.350Z"
   },
   {
    "duration": 3,
    "start_time": "2024-10-12T06:41:21.357Z"
   },
   {
    "duration": 5,
    "start_time": "2024-10-12T06:41:21.361Z"
   },
   {
    "duration": 4,
    "start_time": "2024-10-12T06:41:21.367Z"
   },
   {
    "duration": 5,
    "start_time": "2024-10-12T06:41:21.373Z"
   },
   {
    "duration": 4,
    "start_time": "2024-10-12T06:41:21.382Z"
   },
   {
    "duration": 45,
    "start_time": "2024-10-12T06:41:21.388Z"
   },
   {
    "duration": 5,
    "start_time": "2024-10-12T06:41:21.435Z"
   },
   {
    "duration": 8,
    "start_time": "2024-10-12T06:41:21.441Z"
   },
   {
    "duration": 24,
    "start_time": "2024-10-12T06:41:21.450Z"
   },
   {
    "duration": 17,
    "start_time": "2024-10-12T06:41:21.476Z"
   },
   {
    "duration": 141,
    "start_time": "2024-10-12T06:41:21.495Z"
   },
   {
    "duration": 177,
    "start_time": "2024-10-12T06:41:21.638Z"
   },
   {
    "duration": 22,
    "start_time": "2024-10-12T06:41:21.817Z"
   },
   {
    "duration": 1759,
    "start_time": "2024-10-12T06:41:21.841Z"
   },
   {
    "duration": 555,
    "start_time": "2024-10-12T06:41:23.603Z"
   },
   {
    "duration": 576,
    "start_time": "2024-10-12T06:41:24.160Z"
   },
   {
    "duration": 436,
    "start_time": "2024-10-12T06:41:24.738Z"
   },
   {
    "duration": 11,
    "start_time": "2024-10-12T06:43:49.682Z"
   },
   {
    "duration": 3,
    "start_time": "2024-10-12T06:44:20.893Z"
   },
   {
    "duration": 3,
    "start_time": "2024-10-12T06:44:27.706Z"
   },
   {
    "duration": 7,
    "start_time": "2024-10-12T06:46:30.286Z"
   },
   {
    "duration": 2764,
    "start_time": "2024-10-12T16:22:51.936Z"
   },
   {
    "duration": 82,
    "start_time": "2024-10-12T16:22:54.702Z"
   },
   {
    "duration": 14,
    "start_time": "2024-10-12T16:22:54.786Z"
   },
   {
    "duration": 3,
    "start_time": "2024-10-12T16:22:54.802Z"
   },
   {
    "duration": 27,
    "start_time": "2024-10-12T16:22:54.808Z"
   },
   {
    "duration": 27,
    "start_time": "2024-10-12T16:22:54.837Z"
   },
   {
    "duration": 29,
    "start_time": "2024-10-12T16:22:54.866Z"
   },
   {
    "duration": 35,
    "start_time": "2024-10-12T16:22:54.897Z"
   },
   {
    "duration": 3,
    "start_time": "2024-10-12T16:22:54.934Z"
   },
   {
    "duration": 3,
    "start_time": "2024-10-12T16:22:54.938Z"
   },
   {
    "duration": 3,
    "start_time": "2024-10-12T16:22:54.942Z"
   },
   {
    "duration": 3,
    "start_time": "2024-10-12T16:22:54.947Z"
   },
   {
    "duration": 4,
    "start_time": "2024-10-12T16:22:54.952Z"
   },
   {
    "duration": 5,
    "start_time": "2024-10-12T16:22:54.959Z"
   },
   {
    "duration": 5,
    "start_time": "2024-10-12T16:22:54.965Z"
   },
   {
    "duration": 4,
    "start_time": "2024-10-12T16:22:54.972Z"
   },
   {
    "duration": 7,
    "start_time": "2024-10-12T16:22:54.978Z"
   },
   {
    "duration": 54,
    "start_time": "2024-10-12T16:22:54.986Z"
   },
   {
    "duration": 49,
    "start_time": "2024-10-12T16:22:55.042Z"
   },
   {
    "duration": 232,
    "start_time": "2024-10-12T16:22:55.093Z"
   },
   {
    "duration": 27,
    "start_time": "2024-10-12T16:22:55.331Z"
   },
   {
    "duration": 1046,
    "start_time": "2024-10-12T16:22:55.360Z"
   },
   {
    "duration": 229,
    "start_time": "2024-10-12T16:22:56.408Z"
   },
   {
    "duration": 326,
    "start_time": "2024-10-12T16:22:56.639Z"
   },
   {
    "duration": 240,
    "start_time": "2024-10-12T16:22:56.967Z"
   },
   {
    "duration": 679,
    "start_time": "2024-10-12T17:23:31.336Z"
   },
   {
    "duration": 978,
    "start_time": "2024-10-12T17:23:42.736Z"
   },
   {
    "duration": 1159,
    "start_time": "2024-10-12T17:23:53.200Z"
   },
   {
    "duration": 1418,
    "start_time": "2024-10-12T17:24:01.469Z"
   },
   {
    "duration": 158,
    "start_time": "2024-10-12T18:40:15.999Z"
   },
   {
    "duration": 2515,
    "start_time": "2024-10-12T18:40:27.276Z"
   },
   {
    "duration": 77,
    "start_time": "2024-10-12T18:40:29.794Z"
   },
   {
    "duration": 13,
    "start_time": "2024-10-12T18:40:29.873Z"
   },
   {
    "duration": 3,
    "start_time": "2024-10-12T18:40:29.888Z"
   },
   {
    "duration": 18,
    "start_time": "2024-10-12T18:40:29.893Z"
   },
   {
    "duration": 26,
    "start_time": "2024-10-12T18:40:29.913Z"
   },
   {
    "duration": 49,
    "start_time": "2024-10-12T18:40:29.941Z"
   },
   {
    "duration": 15,
    "start_time": "2024-10-12T18:40:29.991Z"
   },
   {
    "duration": 3,
    "start_time": "2024-10-12T18:40:30.007Z"
   },
   {
    "duration": 3,
    "start_time": "2024-10-12T18:40:30.014Z"
   },
   {
    "duration": 3,
    "start_time": "2024-10-12T18:40:30.018Z"
   },
   {
    "duration": 4,
    "start_time": "2024-10-12T18:40:30.023Z"
   },
   {
    "duration": 4,
    "start_time": "2024-10-12T18:40:30.029Z"
   },
   {
    "duration": 5,
    "start_time": "2024-10-12T18:40:30.069Z"
   },
   {
    "duration": 6,
    "start_time": "2024-10-12T18:40:30.076Z"
   },
   {
    "duration": 4,
    "start_time": "2024-10-12T18:40:30.083Z"
   },
   {
    "duration": 7,
    "start_time": "2024-10-12T18:40:30.089Z"
   },
   {
    "duration": 10,
    "start_time": "2024-10-12T18:40:30.098Z"
   },
   {
    "duration": 130,
    "start_time": "2024-10-12T18:40:30.109Z"
   },
   {
    "duration": 152,
    "start_time": "2024-10-12T18:40:30.240Z"
   },
   {
    "duration": 15,
    "start_time": "2024-10-12T18:40:30.394Z"
   },
   {
    "duration": 1235,
    "start_time": "2024-10-12T18:40:30.411Z"
   },
   {
    "duration": 477,
    "start_time": "2024-10-12T18:40:31.648Z"
   },
   {
    "duration": 243,
    "start_time": "2024-10-12T18:40:32.127Z"
   },
   {
    "duration": 262,
    "start_time": "2024-10-12T18:40:32.372Z"
   },
   {
    "duration": 223,
    "start_time": "2024-10-12T18:40:32.636Z"
   },
   {
    "duration": 705,
    "start_time": "2024-10-12T18:44:36.153Z"
   },
   {
    "duration": 189,
    "start_time": "2024-10-12T19:50:57.493Z"
   },
   {
    "duration": 14,
    "start_time": "2024-10-12T19:51:04.849Z"
   },
   {
    "duration": 901,
    "start_time": "2024-10-12T19:51:11.144Z"
   },
   {
    "duration": 56,
    "start_time": "2024-10-12T19:51:12.048Z"
   },
   {
    "duration": 33,
    "start_time": "2024-10-12T19:51:12.106Z"
   },
   {
    "duration": 3,
    "start_time": "2024-10-12T19:51:12.142Z"
   },
   {
    "duration": 18,
    "start_time": "2024-10-12T19:51:12.147Z"
   },
   {
    "duration": 26,
    "start_time": "2024-10-12T19:51:12.167Z"
   },
   {
    "duration": 52,
    "start_time": "2024-10-12T19:51:12.196Z"
   },
   {
    "duration": 15,
    "start_time": "2024-10-12T19:51:12.250Z"
   },
   {
    "duration": 3,
    "start_time": "2024-10-12T19:51:12.267Z"
   },
   {
    "duration": 3,
    "start_time": "2024-10-12T19:51:12.274Z"
   },
   {
    "duration": 3,
    "start_time": "2024-10-12T19:51:12.278Z"
   },
   {
    "duration": 4,
    "start_time": "2024-10-12T19:51:12.283Z"
   },
   {
    "duration": 44,
    "start_time": "2024-10-12T19:51:12.288Z"
   },
   {
    "duration": 6,
    "start_time": "2024-10-12T19:51:12.333Z"
   },
   {
    "duration": 4,
    "start_time": "2024-10-12T19:51:12.342Z"
   },
   {
    "duration": 5,
    "start_time": "2024-10-12T19:51:12.347Z"
   },
   {
    "duration": 7,
    "start_time": "2024-10-12T19:51:12.353Z"
   },
   {
    "duration": 10,
    "start_time": "2024-10-12T19:51:12.362Z"
   },
   {
    "duration": 126,
    "start_time": "2024-10-12T19:51:12.373Z"
   },
   {
    "duration": 184,
    "start_time": "2024-10-12T19:51:12.501Z"
   },
   {
    "duration": 14,
    "start_time": "2024-10-12T19:51:12.686Z"
   },
   {
    "duration": 5060,
    "start_time": "2024-10-12T19:51:12.702Z"
   },
   {
    "duration": 1348,
    "start_time": "2024-10-12T19:51:17.764Z"
   },
   {
    "duration": 702,
    "start_time": "2024-10-12T19:51:19.114Z"
   },
   {
    "duration": 224,
    "start_time": "2024-10-12T19:51:19.818Z"
   },
   {
    "duration": 251,
    "start_time": "2024-10-12T19:51:20.043Z"
   },
   {
    "duration": 262,
    "start_time": "2024-10-12T19:51:20.296Z"
   },
   {
    "duration": 4454,
    "start_time": "2024-10-12T19:54:40.357Z"
   },
   {
    "duration": 4491,
    "start_time": "2024-10-12T19:58:54.042Z"
   },
   {
    "duration": 4015,
    "start_time": "2024-10-12T20:01:23.863Z"
   },
   {
    "duration": 4535,
    "start_time": "2024-10-12T20:01:56.685Z"
   },
   {
    "duration": 4422,
    "start_time": "2024-10-12T20:07:21.776Z"
   },
   {
    "duration": 846,
    "start_time": "2024-10-12T20:18:57.732Z"
   },
   {
    "duration": 1043,
    "start_time": "2024-10-12T20:19:05.301Z"
   },
   {
    "duration": 1290,
    "start_time": "2024-10-12T20:19:14.224Z"
   },
   {
    "duration": 1504,
    "start_time": "2024-10-12T20:20:01.937Z"
   },
   {
    "duration": 1478,
    "start_time": "2024-10-12T20:39:48.157Z"
   },
   {
    "duration": 1532,
    "start_time": "2024-10-12T20:51:46.229Z"
   },
   {
    "duration": 1260,
    "start_time": "2024-10-12T21:28:50.312Z"
   },
   {
    "duration": 835,
    "start_time": "2024-10-12T21:30:30.960Z"
   },
   {
    "duration": 62,
    "start_time": "2024-10-12T21:30:31.798Z"
   },
   {
    "duration": 14,
    "start_time": "2024-10-12T21:30:31.862Z"
   },
   {
    "duration": 3,
    "start_time": "2024-10-12T21:30:31.879Z"
   },
   {
    "duration": 32,
    "start_time": "2024-10-12T21:30:31.883Z"
   },
   {
    "duration": 27,
    "start_time": "2024-10-12T21:30:31.916Z"
   },
   {
    "duration": 31,
    "start_time": "2024-10-12T21:30:31.944Z"
   },
   {
    "duration": 32,
    "start_time": "2024-10-12T21:30:31.977Z"
   },
   {
    "duration": 3,
    "start_time": "2024-10-12T21:30:32.010Z"
   },
   {
    "duration": 3,
    "start_time": "2024-10-12T21:30:32.016Z"
   },
   {
    "duration": 3,
    "start_time": "2024-10-12T21:30:32.020Z"
   },
   {
    "duration": 3,
    "start_time": "2024-10-12T21:30:32.025Z"
   },
   {
    "duration": 5,
    "start_time": "2024-10-12T21:30:32.029Z"
   },
   {
    "duration": 5,
    "start_time": "2024-10-12T21:30:32.036Z"
   },
   {
    "duration": 5,
    "start_time": "2024-10-12T21:30:32.042Z"
   },
   {
    "duration": 4,
    "start_time": "2024-10-12T21:30:32.049Z"
   },
   {
    "duration": 7,
    "start_time": "2024-10-12T21:30:32.054Z"
   },
   {
    "duration": 53,
    "start_time": "2024-10-12T21:30:32.063Z"
   },
   {
    "duration": 108,
    "start_time": "2024-10-12T21:30:32.118Z"
   },
   {
    "duration": 151,
    "start_time": "2024-10-12T21:30:32.228Z"
   },
   {
    "duration": 17,
    "start_time": "2024-10-12T21:30:32.381Z"
   },
   {
    "duration": 4554,
    "start_time": "2024-10-12T21:30:32.399Z"
   },
   {
    "duration": 1324,
    "start_time": "2024-10-12T21:30:36.955Z"
   },
   {
    "duration": 640,
    "start_time": "2024-10-12T21:30:38.281Z"
   },
   {
    "duration": 1492,
    "start_time": "2024-10-12T21:30:38.923Z"
   },
   {
    "duration": 226,
    "start_time": "2024-10-12T21:30:40.417Z"
   },
   {
    "duration": 236,
    "start_time": "2024-10-12T21:30:40.645Z"
   },
   {
    "duration": 233,
    "start_time": "2024-10-12T21:30:40.885Z"
   },
   {
    "duration": 1556,
    "start_time": "2024-10-12T21:32:47.854Z"
   },
   {
    "duration": 4816,
    "start_time": "2024-10-12T21:42:44.515Z"
   },
   {
    "duration": 1355,
    "start_time": "2024-10-12T21:42:59.520Z"
   },
   {
    "duration": 542,
    "start_time": "2024-10-12T21:43:05.846Z"
   },
   {
    "duration": 588,
    "start_time": "2024-10-12T21:47:50.159Z"
   },
   {
    "duration": 19,
    "start_time": "2024-10-12T21:55:15.261Z"
   },
   {
    "duration": 6,
    "start_time": "2024-10-12T21:55:24.826Z"
   },
   {
    "duration": 7,
    "start_time": "2024-10-12T21:55:38.699Z"
   },
   {
    "duration": 35,
    "start_time": "2024-10-12T21:56:04.149Z"
   },
   {
    "duration": 26,
    "start_time": "2024-10-12T21:56:21.914Z"
   },
   {
    "duration": 12,
    "start_time": "2024-10-12T21:56:29.505Z"
   },
   {
    "duration": 31,
    "start_time": "2024-10-12T21:56:54.880Z"
   },
   {
    "duration": 10,
    "start_time": "2024-10-12T21:58:25.074Z"
   },
   {
    "duration": 29,
    "start_time": "2024-10-12T21:58:28.597Z"
   },
   {
    "duration": 447,
    "start_time": "2024-10-12T22:00:56.634Z"
   },
   {
    "duration": 9,
    "start_time": "2024-10-12T22:01:46.342Z"
   },
   {
    "duration": 28,
    "start_time": "2024-10-12T22:01:52.117Z"
   }
  ],
  "kernelspec": {
   "display_name": "base",
   "language": "python",
   "name": "python3"
  },
  "language_info": {
   "codemirror_mode": {
    "name": "ipython",
    "version": 3
   },
   "file_extension": ".py",
   "mimetype": "text/x-python",
   "name": "python",
   "nbconvert_exporter": "python",
   "pygments_lexer": "ipython3",
   "version": "3.12.4"
  },
  "toc": {
   "base_numbering": 1,
   "nav_menu": {},
   "number_sections": true,
   "sideBar": true,
   "skip_h1_title": true,
   "title_cell": "Table of Contents",
   "title_sidebar": "Contents",
   "toc_cell": false,
   "toc_position": {},
   "toc_section_display": true,
   "toc_window_display": false
  }
 },
 "nbformat": 4,
 "nbformat_minor": 5
}
